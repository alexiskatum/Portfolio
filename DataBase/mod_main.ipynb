{
 "cells": [
  {
   "cell_type": "code",
   "execution_count": null,
   "id": "5153fa43",
   "metadata": {},
   "outputs": [],
   "source": [
    "from mod_class import RegistreManeges\n",
    "from mod_fichier import Lire_csv, Lire_json\n",
    "from mod_mongodb import Connexion, InsertionDB, Recherche\n",
    "from mod_bd import cree_tab, obtenir_connexion, insertion_table"
   ]
  },
  {
   "cell_type": "code",
   "execution_count": null,
   "id": "59d57298",
   "metadata": {},
   "outputs": [],
   "source": [
    "def main():\n",
    "    print('bienvenue cher operateur')\n",
    "    listing = RegistreManeges()\n",
    "    Lire_csv('maneges.csv', listing)\n",
    "    Lire_json('manege_1.json',listing)\n",
    "    #listing.afficher()\n",
    "    #InsertionDB(listing)\n",
    "    #req = str(input('Que rechercher vous?:'))\n",
    "    #Recherche(req)\n",
    "    #cree_tab()\n",
    "    #insertion_table(listing)\n",
    "    print('nombre de ligne charge : 100')\n",
    "\n",
    "if __name__ == '__main__':\n",
    "    main()"
   ]
  }
 ],
 "metadata": {
  "kernelspec": {
   "display_name": "Python 3 (ipykernel)",
   "language": "python",
   "name": "python3"
  },
  "language_info": {
   "codemirror_mode": {
    "name": "ipython",
    "version": 3
   },
   "file_extension": ".py",
   "mimetype": "text/x-python",
   "name": "python",
   "nbconvert_exporter": "python",
   "pygments_lexer": "ipython3",
   "version": "3.11.4"
  }
 },
 "nbformat": 4,
 "nbformat_minor": 5
}
