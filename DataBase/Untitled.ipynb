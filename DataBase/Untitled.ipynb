{
 "cells": [
  {
   "cell_type": "code",
   "execution_count": 1,
   "id": "c41dda31",
   "metadata": {},
   "outputs": [
    {
     "ename": "ModuleNotFoundError",
     "evalue": "No module named 'mod_class'",
     "output_type": "error",
     "traceback": [
      "\u001b[1;31m---------------------------------------------------------------------------\u001b[0m",
      "\u001b[1;31mModuleNotFoundError\u001b[0m                       Traceback (most recent call last)",
      "Cell \u001b[1;32mIn[1], line 1\u001b[0m\n\u001b[1;32m----> 1\u001b[0m \u001b[38;5;28;01mfrom\u001b[39;00m \u001b[38;5;21;01mmod_class\u001b[39;00m \u001b[38;5;28;01mimport\u001b[39;00m Maneges\n\u001b[0;32m      2\u001b[0m \u001b[38;5;28;01mimport\u001b[39;00m \u001b[38;5;21;01mcsv\u001b[39;00m\n\u001b[0;32m      3\u001b[0m \u001b[38;5;28;01mimport\u001b[39;00m \u001b[38;5;21;01mjson\u001b[39;00m\n",
      "\u001b[1;31mModuleNotFoundError\u001b[0m: No module named 'mod_class'"
     ]
    }
   ],
   "source": [
    "from mod_class import Maneges\n",
    "import csv\n",
    "import json"
   ]
  },
  {
   "cell_type": "code",
   "execution_count": null,
   "id": "61edd978",
   "metadata": {},
   "outputs": [],
   "source": [
    "def Lire_csv(doc, listing):\n",
    "    with open(doc) as fici:\n",
    "\n",
    "        for ligne in fici:\n",
    "\n",
    "            rec = ligne.split(';')\n",
    "            #print(rec)\n",
    "            listing.ajouter(Maneges(rec[1], rec[2], rec[5], rec[6]))\n",
    "\n",
    "def Lire_json(docs,listings):\n",
    "    with open(docs) as fico:\n",
    "\n",
    "        data = json.load(fico)\n",
    "        for section in data:\n",
    "            parc = section['parc']\n",
    "            type = section['type']\n",
    "            ouvert = section['ouvert']\n",
    "            vitesse = section['vitesse']\n",
    "            listings.ajouter(Maneges(parc, type, ouvert, vitesse))\n"
   ]
  },
  {
   "cell_type": "code",
   "execution_count": null,
   "id": "ec34fb43",
   "metadata": {},
   "outputs": [],
   "source": []
  }
 ],
 "metadata": {
  "kernelspec": {
   "display_name": "Python 3 (ipykernel)",
   "language": "python",
   "name": "python3"
  },
  "language_info": {
   "codemirror_mode": {
    "name": "ipython",
    "version": 3
   },
   "file_extension": ".py",
   "mimetype": "text/x-python",
   "name": "python",
   "nbconvert_exporter": "python",
   "pygments_lexer": "ipython3",
   "version": "3.11.4"
  }
 },
 "nbformat": 4,
 "nbformat_minor": 5
}
