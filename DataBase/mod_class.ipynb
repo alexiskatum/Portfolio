{
 "cells": [
  {
   "cell_type": "code",
   "execution_count": 1,
   "id": "9810045f",
   "metadata": {},
   "outputs": [],
   "source": [
    "class Maneges:\n",
    "    def __init__(self, parc, type, ouvert, vitesse):\n",
    "        self.parc = parc\n",
    "        self.type = type\n",
    "        self.ouvert = ouvert\n",
    "        vitesse = str(vitesse)\n",
    "        vitesse = vitesse.strip('\\n')\n",
    "        self.vitesse = vitesse\n",
    "\n",
    "\n",
    "    def __str__(self):\n",
    "        return \"{}, {}, {}, {}\".format(self.parc, self.type, self.ouvert, self.vitesse)\n",
    "\n",
    "    \n",
    "    \n",
    "class RegistreManeges:\n",
    "    def __init__(self):\n",
    "        self.registre = []\n",
    "\n",
    "    def ajouter(self, data):\n",
    "        self.registre.append(data)\n",
    "\n",
    "    def afficher(self):\n",
    "        for info in self.registre:\n",
    "            print(info)"
   ]
  },
  {
   "cell_type": "code",
   "execution_count": null,
   "id": "6659e223",
   "metadata": {},
   "outputs": [],
   "source": []
  }
 ],
 "metadata": {
  "kernelspec": {
   "display_name": "Python 3 (ipykernel)",
   "language": "python",
   "name": "python3"
  },
  "language_info": {
   "codemirror_mode": {
    "name": "ipython",
    "version": 3
   },
   "file_extension": ".py",
   "mimetype": "text/x-python",
   "name": "python",
   "nbconvert_exporter": "python",
   "pygments_lexer": "ipython3",
   "version": "3.11.4"
  }
 },
 "nbformat": 4,
 "nbformat_minor": 5
}
