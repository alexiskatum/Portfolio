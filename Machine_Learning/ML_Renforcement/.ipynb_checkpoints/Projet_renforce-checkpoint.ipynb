{
 "cells": [
  {
   "cell_type": "markdown",
   "metadata": {
    "id": "XGJ8yJ8W_3sA"
   },
   "source": [
    "#**Application des équations de Bellman sur un projet réel**"
   ]
  },
  {
   "cell_type": "markdown",
   "metadata": {
    "id": "sZ1BfXx-VlXG"
   },
   "source": [
    "##**1. Téléchargement du programme Python**"
   ]
  },
  {
   "cell_type": "code",
   "execution_count": 1,
   "metadata": {
    "id": "BN6clL6qiaA8"
   },
   "outputs": [],
   "source": [
    "import os\n",
    "import sys\n",
    "\n",
    "sys.path.insert(1, \"/content/ApplicationRL\")"
   ]
  },
  {
   "cell_type": "code",
   "execution_count": 2,
   "metadata": {
    "id": "_nfBhG1OfdHt"
   },
   "outputs": [
    {
     "name": "stderr",
     "output_type": "stream",
     "text": [
      "  WARNING: The script meshio.exe is installed in 'C:\\Users\\Alexis\\AppData\\Roaming\\Python\\Python311\\Scripts' which is not on PATH.\n",
      "  Consider adding this directory to PATH or, if you prefer to suppress this warning, use --no-warn-script-location.\n",
      "\n",
      "[notice] A new release of pip is available: 23.3.2 -> 24.0\n",
      "[notice] To update, run: python.exe -m pip install --upgrade pip\n"
     ]
    }
   ],
   "source": [
    "!pip -q install meshio"
   ]
  },
  {
   "cell_type": "code",
   "execution_count": 4,
   "metadata": {},
   "outputs": [
    {
     "name": "stdout",
     "output_type": "stream",
     "text": [
      "Defaulting to user installation because normal site-packages is not writeable\n",
      "Requirement already satisfied: ipywidgets in c:\\programdata\\anaconda3\\lib\\site-packages (8.0.4)\n",
      "Requirement already satisfied: ipykernel>=4.5.1 in c:\\programdata\\anaconda3\\lib\\site-packages (from ipywidgets) (6.19.2)\n",
      "Requirement already satisfied: ipython>=6.1.0 in c:\\programdata\\anaconda3\\lib\\site-packages (from ipywidgets) (8.12.0)\n",
      "Requirement already satisfied: traitlets>=4.3.1 in c:\\programdata\\anaconda3\\lib\\site-packages (from ipywidgets) (5.7.1)\n",
      "Requirement already satisfied: widgetsnbextension~=4.0 in c:\\programdata\\anaconda3\\lib\\site-packages (from ipywidgets) (4.0.5)\n",
      "Requirement already satisfied: jupyterlab-widgets~=3.0 in c:\\programdata\\anaconda3\\lib\\site-packages (from ipywidgets) (3.0.5)\n",
      "Requirement already satisfied: comm>=0.1.1 in c:\\programdata\\anaconda3\\lib\\site-packages (from ipykernel>=4.5.1->ipywidgets) (0.1.2)\n",
      "Requirement already satisfied: debugpy>=1.0 in c:\\programdata\\anaconda3\\lib\\site-packages (from ipykernel>=4.5.1->ipywidgets) (1.6.7)\n",
      "Requirement already satisfied: jupyter-client>=6.1.12 in c:\\programdata\\anaconda3\\lib\\site-packages (from ipykernel>=4.5.1->ipywidgets) (7.4.9)\n",
      "Requirement already satisfied: matplotlib-inline>=0.1 in c:\\programdata\\anaconda3\\lib\\site-packages (from ipykernel>=4.5.1->ipywidgets) (0.1.6)\n",
      "Requirement already satisfied: nest-asyncio in c:\\programdata\\anaconda3\\lib\\site-packages (from ipykernel>=4.5.1->ipywidgets) (1.5.6)\n",
      "Requirement already satisfied: packaging in c:\\programdata\\anaconda3\\lib\\site-packages (from ipykernel>=4.5.1->ipywidgets) (23.0)\n",
      "Requirement already satisfied: psutil in c:\\programdata\\anaconda3\\lib\\site-packages (from ipykernel>=4.5.1->ipywidgets) (5.9.0)\n",
      "Requirement already satisfied: pyzmq>=17 in c:\\programdata\\anaconda3\\lib\\site-packages (from ipykernel>=4.5.1->ipywidgets) (23.2.0)\n",
      "Requirement already satisfied: tornado>=6.1 in c:\\programdata\\anaconda3\\lib\\site-packages (from ipykernel>=4.5.1->ipywidgets) (6.3.2)\n",
      "Requirement already satisfied: backcall in c:\\programdata\\anaconda3\\lib\\site-packages (from ipython>=6.1.0->ipywidgets) (0.2.0)\n",
      "Requirement already satisfied: decorator in c:\\programdata\\anaconda3\\lib\\site-packages (from ipython>=6.1.0->ipywidgets) (5.1.1)\n",
      "Requirement already satisfied: jedi>=0.16 in c:\\programdata\\anaconda3\\lib\\site-packages (from ipython>=6.1.0->ipywidgets) (0.18.1)\n",
      "Requirement already satisfied: pickleshare in c:\\programdata\\anaconda3\\lib\\site-packages (from ipython>=6.1.0->ipywidgets) (0.7.5)\n",
      "Requirement already satisfied: prompt-toolkit!=3.0.37,<3.1.0,>=3.0.30 in c:\\programdata\\anaconda3\\lib\\site-packages (from ipython>=6.1.0->ipywidgets) (3.0.36)\n",
      "Requirement already satisfied: pygments>=2.4.0 in c:\\programdata\\anaconda3\\lib\\site-packages (from ipython>=6.1.0->ipywidgets) (2.15.1)\n",
      "Requirement already satisfied: stack-data in c:\\programdata\\anaconda3\\lib\\site-packages (from ipython>=6.1.0->ipywidgets) (0.2.0)\n",
      "Requirement already satisfied: colorama in c:\\programdata\\anaconda3\\lib\\site-packages (from ipython>=6.1.0->ipywidgets) (0.4.6)\n",
      "Requirement already satisfied: parso<0.9.0,>=0.8.0 in c:\\programdata\\anaconda3\\lib\\site-packages (from jedi>=0.16->ipython>=6.1.0->ipywidgets) (0.8.3)\n",
      "Requirement already satisfied: entrypoints in c:\\programdata\\anaconda3\\lib\\site-packages (from jupyter-client>=6.1.12->ipykernel>=4.5.1->ipywidgets) (0.4)\n",
      "Requirement already satisfied: jupyter-core>=4.9.2 in c:\\programdata\\anaconda3\\lib\\site-packages (from jupyter-client>=6.1.12->ipykernel>=4.5.1->ipywidgets) (5.3.0)\n",
      "Requirement already satisfied: python-dateutil>=2.8.2 in c:\\programdata\\anaconda3\\lib\\site-packages (from jupyter-client>=6.1.12->ipykernel>=4.5.1->ipywidgets) (2.8.2)\n",
      "Requirement already satisfied: wcwidth in c:\\programdata\\anaconda3\\lib\\site-packages (from prompt-toolkit!=3.0.37,<3.1.0,>=3.0.30->ipython>=6.1.0->ipywidgets) (0.2.5)\n",
      "Requirement already satisfied: executing in c:\\programdata\\anaconda3\\lib\\site-packages (from stack-data->ipython>=6.1.0->ipywidgets) (0.8.3)\n",
      "Requirement already satisfied: asttokens in c:\\programdata\\anaconda3\\lib\\site-packages (from stack-data->ipython>=6.1.0->ipywidgets) (2.0.5)\n",
      "Requirement already satisfied: pure-eval in c:\\programdata\\anaconda3\\lib\\site-packages (from stack-data->ipython>=6.1.0->ipywidgets) (0.2.2)\n",
      "Requirement already satisfied: platformdirs>=2.5 in c:\\programdata\\anaconda3\\lib\\site-packages (from jupyter-core>=4.9.2->jupyter-client>=6.1.12->ipykernel>=4.5.1->ipywidgets) (2.5.2)\n",
      "Requirement already satisfied: pywin32>=300 in c:\\programdata\\anaconda3\\lib\\site-packages (from jupyter-core>=4.9.2->jupyter-client>=6.1.12->ipykernel>=4.5.1->ipywidgets) (305.1)\n",
      "Requirement already satisfied: six>=1.5 in c:\\programdata\\anaconda3\\lib\\site-packages (from python-dateutil>=2.8.2->jupyter-client>=6.1.12->ipykernel>=4.5.1->ipywidgets) (1.16.0)\n"
     ]
    },
    {
     "name": "stderr",
     "output_type": "stream",
     "text": [
      "\n",
      "[notice] A new release of pip is available: 23.3.2 -> 24.0\n",
      "[notice] To update, run: python.exe -m pip install --upgrade pip\n"
     ]
    },
    {
     "name": "stdout",
     "output_type": "stream",
     "text": [
      "Defaulting to user installation because normal site-packages is not writeable\n",
      "Collecting opencv-python\n",
      "  Downloading opencv_python-4.9.0.80-cp37-abi3-win_amd64.whl.metadata (20 kB)\n",
      "Requirement already satisfied: numpy>=1.21.2 in c:\\programdata\\anaconda3\\lib\\site-packages (from opencv-python) (1.24.3)\n",
      "Downloading opencv_python-4.9.0.80-cp37-abi3-win_amd64.whl (38.6 MB)\n",
      "   ---------------------------------------- 0.0/38.6 MB ? eta -:--:--\n",
      "   ---------------------------------------- 0.3/38.6 MB 6.3 MB/s eta 0:00:07\n",
      "    --------------------------------------- 0.7/38.6 MB 6.9 MB/s eta 0:00:06\n",
      "   - -------------------------------------- 1.0/38.6 MB 7.0 MB/s eta 0:00:06\n",
      "   - -------------------------------------- 1.3/38.6 MB 6.9 MB/s eta 0:00:06\n",
      "   - -------------------------------------- 1.7/38.6 MB 7.1 MB/s eta 0:00:06\n",
      "   -- ------------------------------------- 2.0/38.6 MB 7.2 MB/s eta 0:00:06\n",
      "   -- ------------------------------------- 2.3/38.6 MB 7.1 MB/s eta 0:00:06\n",
      "   -- ------------------------------------- 2.7/38.6 MB 7.2 MB/s eta 0:00:06\n",
      "   --- ------------------------------------ 3.1/38.6 MB 7.2 MB/s eta 0:00:05\n",
      "   --- ------------------------------------ 3.4/38.6 MB 7.2 MB/s eta 0:00:05\n",
      "   --- ------------------------------------ 3.8/38.6 MB 7.3 MB/s eta 0:00:05\n",
      "   ---- ----------------------------------- 4.2/38.6 MB 7.4 MB/s eta 0:00:05\n",
      "   ---- ----------------------------------- 4.3/38.6 MB 7.4 MB/s eta 0:00:05\n",
      "   ---- ----------------------------------- 4.8/38.6 MB 7.3 MB/s eta 0:00:05\n",
      "   ----- ---------------------------------- 5.2/38.6 MB 7.3 MB/s eta 0:00:05\n",
      "   ----- ---------------------------------- 5.5/38.6 MB 7.3 MB/s eta 0:00:05\n",
      "   ------ --------------------------------- 5.9/38.6 MB 7.3 MB/s eta 0:00:05\n",
      "   ------ --------------------------------- 6.0/38.6 MB 7.3 MB/s eta 0:00:05\n",
      "   ------ --------------------------------- 6.5/38.6 MB 7.3 MB/s eta 0:00:05\n",
      "   ------- -------------------------------- 6.9/38.6 MB 7.3 MB/s eta 0:00:05\n",
      "   ------- -------------------------------- 7.3/38.6 MB 7.4 MB/s eta 0:00:05\n",
      "   ------- -------------------------------- 7.7/38.6 MB 7.4 MB/s eta 0:00:05\n",
      "   -------- ------------------------------- 8.0/38.6 MB 7.4 MB/s eta 0:00:05\n",
      "   -------- ------------------------------- 8.4/38.6 MB 7.5 MB/s eta 0:00:05\n",
      "   --------- ------------------------------ 8.8/38.6 MB 7.5 MB/s eta 0:00:04\n",
      "   --------- ------------------------------ 9.2/38.6 MB 7.5 MB/s eta 0:00:04\n",
      "   --------- ------------------------------ 9.5/38.6 MB 7.5 MB/s eta 0:00:04\n",
      "   ---------- ----------------------------- 9.9/38.6 MB 7.5 MB/s eta 0:00:04\n",
      "   ---------- ----------------------------- 10.3/38.6 MB 7.5 MB/s eta 0:00:04\n",
      "   ----------- ---------------------------- 10.7/38.6 MB 7.6 MB/s eta 0:00:04\n",
      "   ----------- ---------------------------- 11.0/38.6 MB 7.6 MB/s eta 0:00:04\n",
      "   ----------- ---------------------------- 11.4/38.6 MB 7.7 MB/s eta 0:00:04\n",
      "   ------------ --------------------------- 11.8/38.6 MB 7.7 MB/s eta 0:00:04\n",
      "   ------------ --------------------------- 12.1/38.6 MB 7.7 MB/s eta 0:00:04\n",
      "   ------------ --------------------------- 12.5/38.6 MB 7.8 MB/s eta 0:00:04\n",
      "   ------------- -------------------------- 12.9/38.6 MB 7.8 MB/s eta 0:00:04\n",
      "   ------------- -------------------------- 13.3/38.6 MB 7.8 MB/s eta 0:00:04\n",
      "   -------------- ------------------------- 13.6/38.6 MB 7.8 MB/s eta 0:00:04\n",
      "   -------------- ------------------------- 14.0/38.6 MB 7.8 MB/s eta 0:00:04\n",
      "   -------------- ------------------------- 14.3/38.6 MB 7.7 MB/s eta 0:00:04\n",
      "   --------------- ------------------------ 14.6/38.6 MB 7.9 MB/s eta 0:00:04\n",
      "   --------------- ------------------------ 15.0/38.6 MB 7.8 MB/s eta 0:00:04\n",
      "   --------------- ------------------------ 15.3/38.6 MB 7.7 MB/s eta 0:00:04\n",
      "   ---------------- ----------------------- 15.6/38.6 MB 7.7 MB/s eta 0:00:03\n",
      "   ---------------- ----------------------- 15.9/38.6 MB 7.6 MB/s eta 0:00:03\n",
      "   ---------------- ----------------------- 16.3/38.6 MB 7.8 MB/s eta 0:00:03\n",
      "   ----------------- ---------------------- 16.5/38.6 MB 7.7 MB/s eta 0:00:03\n",
      "   ----------------- ---------------------- 16.9/38.6 MB 7.6 MB/s eta 0:00:03\n",
      "   ----------------- ---------------------- 17.2/38.6 MB 7.6 MB/s eta 0:00:03\n",
      "   ------------------ --------------------- 17.5/38.6 MB 7.6 MB/s eta 0:00:03\n",
      "   ------------------ --------------------- 17.8/38.6 MB 7.4 MB/s eta 0:00:03\n",
      "   ------------------ --------------------- 18.1/38.6 MB 7.4 MB/s eta 0:00:03\n",
      "   ------------------- -------------------- 18.4/38.6 MB 7.4 MB/s eta 0:00:03\n",
      "   ------------------- -------------------- 18.7/38.6 MB 7.3 MB/s eta 0:00:03\n",
      "   ------------------- -------------------- 19.0/38.6 MB 7.4 MB/s eta 0:00:03\n",
      "   -------------------- ------------------- 19.3/38.6 MB 7.3 MB/s eta 0:00:03\n",
      "   -------------------- ------------------- 19.6/38.6 MB 7.2 MB/s eta 0:00:03\n",
      "   -------------------- ------------------- 19.9/38.6 MB 7.2 MB/s eta 0:00:03\n",
      "   -------------------- ------------------- 20.2/38.6 MB 7.2 MB/s eta 0:00:03\n",
      "   --------------------- ------------------ 20.6/38.6 MB 7.1 MB/s eta 0:00:03\n",
      "   --------------------- ------------------ 20.9/38.6 MB 7.1 MB/s eta 0:00:03\n",
      "   --------------------- ------------------ 21.2/38.6 MB 7.0 MB/s eta 0:00:03\n",
      "   ---------------------- ----------------- 21.6/38.6 MB 7.0 MB/s eta 0:00:03\n",
      "   ---------------------- ----------------- 21.9/38.6 MB 7.0 MB/s eta 0:00:03\n",
      "   ---------------------- ----------------- 22.2/38.6 MB 7.0 MB/s eta 0:00:03\n",
      "   ----------------------- ---------------- 22.5/38.6 MB 7.0 MB/s eta 0:00:03\n",
      "   ----------------------- ---------------- 22.8/38.6 MB 6.9 MB/s eta 0:00:03\n",
      "   ----------------------- ---------------- 23.2/38.6 MB 7.0 MB/s eta 0:00:03\n",
      "   ------------------------ --------------- 23.5/38.6 MB 6.8 MB/s eta 0:00:03\n",
      "   ------------------------ --------------- 23.8/38.6 MB 6.8 MB/s eta 0:00:03\n",
      "   ------------------------- -------------- 24.2/38.6 MB 6.8 MB/s eta 0:00:03\n",
      "   ------------------------- -------------- 24.5/38.6 MB 6.9 MB/s eta 0:00:03\n",
      "   ------------------------- -------------- 24.9/38.6 MB 6.9 MB/s eta 0:00:02\n",
      "   -------------------------- ------------- 25.3/38.6 MB 6.9 MB/s eta 0:00:02\n",
      "   -------------------------- ------------- 25.7/38.6 MB 7.0 MB/s eta 0:00:02\n",
      "   -------------------------- ------------- 26.0/38.6 MB 7.0 MB/s eta 0:00:02\n",
      "   --------------------------- ------------ 26.4/38.6 MB 7.0 MB/s eta 0:00:02\n",
      "   --------------------------- ------------ 26.8/38.6 MB 7.0 MB/s eta 0:00:02\n",
      "   ---------------------------- ----------- 27.1/38.6 MB 7.0 MB/s eta 0:00:02\n",
      "   ---------------------------- ----------- 27.5/38.6 MB 7.1 MB/s eta 0:00:02\n",
      "   ---------------------------- ----------- 27.8/38.6 MB 7.2 MB/s eta 0:00:02\n",
      "   ----------------------------- ---------- 28.2/38.6 MB 7.2 MB/s eta 0:00:02\n",
      "   ----------------------------- ---------- 28.5/38.6 MB 7.3 MB/s eta 0:00:02\n",
      "   ----------------------------- ---------- 28.9/38.6 MB 7.3 MB/s eta 0:00:02\n",
      "   ------------------------------ --------- 29.2/38.6 MB 7.3 MB/s eta 0:00:02\n",
      "   ------------------------------ --------- 29.6/38.6 MB 7.4 MB/s eta 0:00:02\n",
      "   ------------------------------ --------- 29.9/38.6 MB 7.4 MB/s eta 0:00:02\n",
      "   ------------------------------- -------- 30.2/38.6 MB 7.4 MB/s eta 0:00:02\n",
      "   ------------------------------- -------- 30.5/38.6 MB 7.4 MB/s eta 0:00:02\n",
      "   ------------------------------- -------- 30.8/38.6 MB 7.4 MB/s eta 0:00:02\n",
      "   -------------------------------- ------- 31.1/38.6 MB 7.4 MB/s eta 0:00:02\n",
      "   -------------------------------- ------- 31.4/38.6 MB 7.3 MB/s eta 0:00:01\n",
      "   -------------------------------- ------- 31.8/38.6 MB 7.3 MB/s eta 0:00:01\n",
      "   --------------------------------- ------ 32.1/38.6 MB 7.3 MB/s eta 0:00:01\n",
      "   --------------------------------- ------ 32.4/38.6 MB 7.3 MB/s eta 0:00:01\n",
      "   --------------------------------- ------ 32.7/38.6 MB 7.3 MB/s eta 0:00:01\n",
      "   ---------------------------------- ----- 33.1/38.6 MB 7.3 MB/s eta 0:00:01\n",
      "   ---------------------------------- ----- 33.4/38.6 MB 7.4 MB/s eta 0:00:01\n",
      "   ---------------------------------- ----- 33.8/38.6 MB 7.4 MB/s eta 0:00:01\n",
      "   ----------------------------------- ---- 34.1/38.6 MB 7.4 MB/s eta 0:00:01\n",
      "   ----------------------------------- ---- 34.5/38.6 MB 7.4 MB/s eta 0:00:01\n",
      "   ------------------------------------ --- 34.9/38.6 MB 7.4 MB/s eta 0:00:01\n",
      "   ------------------------------------ --- 35.3/38.6 MB 7.4 MB/s eta 0:00:01\n",
      "   ------------------------------------ --- 35.6/38.6 MB 7.4 MB/s eta 0:00:01\n",
      "   ------------------------------------- -- 35.9/38.6 MB 7.4 MB/s eta 0:00:01\n",
      "   ------------------------------------- -- 36.2/38.6 MB 7.3 MB/s eta 0:00:01\n",
      "   ------------------------------------- -- 36.6/38.6 MB 7.4 MB/s eta 0:00:01\n",
      "   -------------------------------------- - 36.9/38.6 MB 7.3 MB/s eta 0:00:01\n",
      "   -------------------------------------- - 37.3/38.6 MB 7.3 MB/s eta 0:00:01\n",
      "   -------------------------------------- - 37.6/38.6 MB 7.3 MB/s eta 0:00:01\n",
      "   ---------------------------------------  37.9/38.6 MB 7.3 MB/s eta 0:00:01\n",
      "   ---------------------------------------  38.3/38.6 MB 7.3 MB/s eta 0:00:01\n",
      "   ---------------------------------------  38.6/38.6 MB 7.3 MB/s eta 0:00:01\n",
      "   ---------------------------------------  38.6/38.6 MB 7.3 MB/s eta 0:00:01\n",
      "   ---------------------------------------  38.6/38.6 MB 7.3 MB/s eta 0:00:01\n",
      "   ---------------------------------------  38.6/38.6 MB 7.3 MB/s eta 0:00:01\n",
      "   ---------------------------------------  38.6/38.6 MB 7.3 MB/s eta 0:00:01\n",
      "   ---------------------------------------  38.6/38.6 MB 7.3 MB/s eta 0:00:01\n",
      "   ---------------------------------------  38.6/38.6 MB 7.3 MB/s eta 0:00:01\n",
      "   ---------------------------------------  38.6/38.6 MB 7.3 MB/s eta 0:00:01\n",
      "   ---------------------------------------  38.6/38.6 MB 7.3 MB/s eta 0:00:01\n",
      "   ---------------------------------------  38.6/38.6 MB 7.3 MB/s eta 0:00:01\n",
      "   ---------------------------------------  38.6/38.6 MB 7.3 MB/s eta 0:00:01\n",
      "   ---------------------------------------  38.6/38.6 MB 7.3 MB/s eta 0:00:01\n",
      "   ---------------------------------------- 38.6/38.6 MB 5.3 MB/s eta 0:00:00\n",
      "Installing collected packages: opencv-python\n",
      "Successfully installed opencv-python-4.9.0.80\n"
     ]
    },
    {
     "name": "stderr",
     "output_type": "stream",
     "text": [
      "\n",
      "[notice] A new release of pip is available: 23.3.2 -> 24.0\n",
      "[notice] To update, run: python.exe -m pip install --upgrade pip\n"
     ]
    }
   ],
   "source": [
    "!pip install ipywidgets\n",
    "!pip install opencv-python"
   ]
  },
  {
   "cell_type": "markdown",
   "metadata": {
    "id": "dyBVL4yAdqXs"
   },
   "source": [
    "##**2. Découverte de l'environnement de travail**"
   ]
  },
  {
   "cell_type": "code",
   "execution_count": 6,
   "metadata": {
    "id": "-aMQdQQUd6UD"
   },
   "outputs": [],
   "source": [
    "from magasin import Magasin\n",
    "from utils import bgr8_to_jpeg\n",
    "import ipywidgets\n",
    "import numpy as np\n",
    "\n",
    "from IPython.display import display"
   ]
  },
  {
   "cell_type": "markdown",
   "metadata": {
    "id": "cEUGbRcedypL"
   },
   "source": [
    "#####**2.1 Instanciation de la classe Magasin**"
   ]
  },
  {
   "cell_type": "code",
   "execution_count": 7,
   "metadata": {
    "id": "UCNAws5ogqli"
   },
   "outputs": [],
   "source": [
    "Magasin = Magasin(\"ApplicationRL/maillage_carte.msh\",\"ApplicationRL/image_magasin.png\")"
   ]
  },
  {
   "cell_type": "code",
   "execution_count": 8,
   "metadata": {
    "id": "pIAYMnCyjKAj"
   },
   "outputs": [
    {
     "name": "stdout",
     "output_type": "stream",
     "text": [
      "Initialisation de la carte ...\n",
      "\n",
      "Construction de la table des transitions ...\n",
      "Initialisation de la table des valeurs des actions...\n",
      "Initialisation de la table des valeurs des états...\n"
     ]
    }
   ],
   "source": [
    "Magasin.RECOMPENSE = 1\n",
    "Magasin.RECOMPENSE_MUR = -10\n",
    "Magasin.RECOMPENSE_NON_CIBLE = 0\n",
    "Magasin.PROBA_MAX = 0.98\n",
    "\n",
    "Magasin.RAZ()"
   ]
  },
  {
   "cell_type": "markdown",
   "metadata": {
    "id": "hvfO0TPMn0Tj"
   },
   "source": [
    "#####**2.2 Saisie de l'objectif**"
   ]
  },
  {
   "cell_type": "code",
   "execution_count": 9,
   "metadata": {
    "id": "_5OTyzeQn37g"
   },
   "outputs": [],
   "source": [
    "def AfficheSelectionImage(change):\n",
    "    numero = change['new']\n",
    "    Magasin.ETAT_CIBLE = numero\n",
    "    widget_image.value = bgr8_to_jpeg(Magasin.AfficheObjectifSurImage())"
   ]
  },
  {
   "cell_type": "code",
   "execution_count": 171,
   "metadata": {
    "id": "6w0fBkuEn7CA"
   },
   "outputs": [
    {
     "data": {
      "application/vnd.jupyter.widget-view+json": {
       "model_id": "23fe615b3bdf48c4b2094bdac66d6a7e",
       "version_major": 2,
       "version_minor": 0
      },
      "text/plain": [
       "VBox(children=(Image(value=b'\\xff\\xd8\\xff\\xe0\\x00\\x10JFIF\\x00\\x01\\x01\\x00\\x00\\x01\\x00\\x01\\x00\\x00\\xff\\xdb\\x00C…"
      ]
     },
     "metadata": {},
     "output_type": "display_data"
    }
   ],
   "source": [
    "# Création des widgets\n",
    "widget_image = ipywidgets.Image(format='png',value=bgr8_to_jpeg(Magasin.image_magasin),width=640)\n",
    "slider_numero = ipywidgets.IntSlider(value=80,min=0,max=Magasin.nombre_etats-1)\n",
    "\n",
    "# Création du lien avec le slider\n",
    "slider_numero.observe(AfficheSelectionImage, names='value')\n",
    "\n",
    "# Création de l'interface d'acquisition\n",
    "widget_presentation = ipywidgets.VBox([widget_image, slider_numero])\n",
    "\n",
    "display(widget_presentation)"
   ]
  },
  {
   "cell_type": "code",
   "execution_count": 178,
   "metadata": {},
   "outputs": [
    {
     "name": "stdout",
     "output_type": "stream",
     "text": [
      "30.08\n",
      "8.571384\n",
      "6.5850296\n",
      "5.242119\n",
      "4.17593\n",
      "3.2789116\n",
      "2.6109924\n",
      "2.0746994\n",
      "0.46536255\n",
      "0.2984581\n",
      "0.19150162\n",
      "0.1228714\n",
      "0.07883453\n",
      "0.050582886\n",
      "0.03245926\n",
      "0.020828247\n",
      "0.013355255\n",
      "0.008575439\n",
      "0.005504608\n",
      "0.0035209656\n",
      "0.0022659302\n"
     ]
    },
    {
     "data": {
      "text/plain": [
       "'\\nfor s in Magasin.table_transitions[etat]:\\n    policy[s] = np.random.choice(Magasin.table_transitions[s,action])\\n'"
      ]
     },
     "execution_count": 178,
     "metadata": {},
     "output_type": "execute_result"
    }
   ],
   "source": [
    "#Hyperparameters\n",
    "SMALL_ENOUGH = 0.002\n",
    "GAMMA = 0.8\n",
    "NOISE = 0.5\n",
    "\n",
    "# Initialisation fonction des valeurs d'états à 0\n",
    "Magasin.V_table = np.zeros(Magasin.nombre_etats, dtype=np.float32)\n",
    "Valeurs_ = np.zeros(Magasin.nombre_etats, dtype=np.float32)\n",
    "\n",
    "iteration = 0\n",
    "while True:\n",
    "    biggest_change = 0\n",
    "    for s in range(Magasin.nombre_etats):\n",
    "        Valeur = np.zeros((3), dtype=np.float32)\n",
    "        # Nouvelle valeur de l'état avec l'équation de Bellman\n",
    "        # Nous iterons sur chaque action possible\n",
    "        for a in range(3):\n",
    "            # Nous iterons sur chaque état suivant possible\n",
    "            prob=[]\n",
    "            reward=0\n",
    "            pos_etat_s=[]\n",
    "            for nxt_s in range(3):\n",
    "                # Nous récuperons les probabilité pour l'état suivant\n",
    "                prob = Magasin.table_transitions[s,a,nxt_s]['proba_transition']\n",
    "                # Nous récuperons la récompense pour l'état suivant\n",
    "                reward += Magasin.table_transitions[s,a,nxt_s]['recompense']\n",
    "                # Nous récuperons la position sur le dataframe de l'état suivant\n",
    "                pos_etat_s = Magasin.table_transitions[s,a,nxt_s]['index_etat_suivant']\n",
    "                # Itération de la valeur des actions \n",
    "                Magasin.Q_table[s,a] +=  prob*(reward + GAMMA*Magasin.V_table[pos_etat_s])\n",
    "                Valeur[a] += reward + GAMMA*(prob*Magasin.V_table[pos_etat_s])\n",
    "\n",
    "        # Sauvegarde la valeur d'état plus grande de toutes les actions\n",
    "        Magasin.V_table[s] = np.amax(Valeur)\n",
    "    \n",
    "    # Compare la fonction des valeurs des états obtenue avec la précédente\n",
    "    biggest_change = np.max(np.abs(Valeurs_ - Magasin.V_table))\n",
    "    #See if the loop should stop now\n",
    "    if biggest_change < SMALL_ENOUGH:\n",
    "        break\n",
    "    iteration += 1\n",
    "    # Nous imprimons la valeur delta (Convergence)\n",
    "    print(biggest_change)\n",
    "\n",
    "\n",
    "  # Sauvegarde la fonction des valeurs des états pour la prochaine itération\n",
    "    Valeurs_ = Magasin.V_table.copy()   \n",
    "\n",
    "#Define an initial policy\n",
    "#policy ={}\n",
    "'''\n",
    "for s in Magasin.table_transitions[etat]:\n",
    "    policy[s] = np.random.choice(Magasin.table_transitions[s,action])\n",
    "'''\n",
    "#for s in range(Magasin.table_transitions):\n",
    "   #policy[s] = Magasin.table_transitions[s, np.random.choice(range(3))]"
   ]
  },
  {
   "cell_type": "code",
   "execution_count": 179,
   "metadata": {},
   "outputs": [
    {
     "name": "stdout",
     "output_type": "stream",
     "text": [
      "     Etat courant  Action  Valeur\n",
      "0               0       0    -inf\n",
      "1               0       1    -inf\n",
      "2               0       2    -inf\n",
      "3               1       0    -inf\n",
      "4               1       1    -inf\n",
      "..            ...     ...     ...\n",
      "901           300       1    -inf\n",
      "902           300       2    -inf\n",
      "903           301       0    -inf\n",
      "904           301       1    -inf\n",
      "905           301       2    -inf\n",
      "\n",
      "[906 rows x 3 columns]\n",
      "     Etat courant     Valeur\n",
      "0               0 -22.946028\n",
      "1               1  -0.407565\n",
      "2               2  -0.773642\n",
      "3               3  -0.488873\n",
      "4               4 -10.371827\n",
      "..            ...        ...\n",
      "297           297 -25.060862\n",
      "298           298 -10.149529\n",
      "299           299 -10.153947\n",
      "300           300 -28.975742\n",
      "301           301 -27.853931\n",
      "\n",
      "[302 rows x 2 columns]\n"
     ]
    }
   ],
   "source": [
    "print(Magasin.Getdf_Qtable())\n",
    "print(Magasin.Getdf_Vtable())\n"
   ]
  },
  {
   "cell_type": "code",
   "execution_count": 180,
   "metadata": {},
   "outputs": [
    {
     "data": {
      "application/vnd.jupyter.widget-view+json": {
       "model_id": "405f860cfbe0482ca4a733e69add3285",
       "version_major": 2,
       "version_minor": 0
      },
      "text/plain": [
       "Image(value=b'\\xff\\xd8\\xff\\xe0\\x00\\x10JFIF\\x00\\x01\\x01\\x00\\x00\\x01\\x00\\x01\\x00\\x00\\xff\\xdb\\x00C\\x00\\x02\\x01\\x0…"
      ]
     },
     "metadata": {},
     "output_type": "display_data"
    }
   ],
   "source": [
    "# Création de la colorMap\n",
    "Magasin.CreationColorMap()\n",
    "\n",
    "# Création des widgets\n",
    "widget_image = ipywidgets.Image(format='png',value=bgr8_to_jpeg(Magasin.image_Vtable),width=640)\n",
    "\n",
    "display(widget_image)"
   ]
  },
  {
   "cell_type": "code",
   "execution_count": 181,
   "metadata": {},
   "outputs": [],
   "source": [
    "# Création des widgets\n",
    "widget_image = ipywidgets.Image(format='png',value=bgr8_to_jpeg(Magasin.image_magasin_objectif),width=640)\n",
    "widget_iteration = ipywidgets.Text(value=\"0\",description=\"Itération: \")\n",
    "widget_etat = ipywidgets.Text(value=\"0\",description=\"État: \")\n",
    "\n",
    "widget_presentation = ipywidgets.VBox([widget_iteration,widget_etat,widget_image])"
   ]
  },
  {
   "cell_type": "code",
   "execution_count": 182,
   "metadata": {},
   "outputs": [
    {
     "data": {
      "application/vnd.jupyter.widget-view+json": {
       "model_id": "9ac78a89ad9d4af786b72669217a238d",
       "version_major": 2,
       "version_minor": 0
      },
      "text/plain": [
       "VBox(children=(Text(value='0', description='Itération: '), Text(value='0', description='État: '), Image(value=…"
      ]
     },
     "metadata": {},
     "output_type": "display_data"
    }
   ],
   "source": [
    "import time\n",
    "\n",
    "objectif_atteint = False\n",
    "max_iteration = 100000\n",
    "freq_mise_a_jour = 1\n",
    "\n",
    "Magasin.InitImageTrajectoire()\n",
    "\n",
    "iteration = 0\n",
    "etat_courant = Magasin._ETAT_DEPART\n",
    "\n",
    "display(widget_presentation)\n",
    "\n",
    "time.sleep(1)\n",
    "\n",
    "while objectif_atteint is False and iteration <= max_iteration:\n",
    "    widget_etat.value = str(etat_courant)\n",
    "\n",
    "    # Récupère la table des valeurs d'action de l'état en cours\n",
    "    Q_ = Magasin.Q_table[etat_courant,:]\n",
    "\n",
    "    # Récupère l'action optimale\n",
    "  \n",
    "    action = np.argmax(Q_)\n",
    "\n",
    "    # Simulation de l'action\n",
    "    etat_courant, image_ = Magasin.SimuleAction(etat_courant,action)\n",
    "\n",
    "    if etat_courant == Magasin.ETAT_CIBLE:\n",
    "        objectif_atteint = True\n",
    "\n",
    "    # Afficher le resultat\n",
    "    if iteration%freq_mise_a_jour == 0:\n",
    "        widget_image.value = bgr8_to_jpeg(image_)\n",
    "        widget_iteration.value = str(iteration+1)\n",
    "\n",
    "    iteration = iteration + 1"
   ]
  },
  {
   "cell_type": "code",
   "execution_count": null,
   "metadata": {},
   "outputs": [],
   "source": []
  }
 ],
 "metadata": {
  "colab": {
   "collapsed_sections": [],
   "provenance": []
  },
  "kernelspec": {
   "display_name": "Python 3 (ipykernel)",
   "language": "python",
   "name": "python3"
  },
  "language_info": {
   "codemirror_mode": {
    "name": "ipython",
    "version": 3
   },
   "file_extension": ".py",
   "mimetype": "text/x-python",
   "name": "python",
   "nbconvert_exporter": "python",
   "pygments_lexer": "ipython3",
   "version": "3.11.4"
  }
 },
 "nbformat": 4,
 "nbformat_minor": 1
}
