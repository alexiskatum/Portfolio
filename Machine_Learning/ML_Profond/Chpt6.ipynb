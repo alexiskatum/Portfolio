{
 "cells": [
  {
   "cell_type": "code",
   "execution_count": 1,
   "id": "80d5178f-af9f-4e1f-8084-4507a6090631",
   "metadata": {
    "tags": []
   },
   "outputs": [
    {
     "name": "stdout",
     "output_type": "stream",
     "text": [
      "Requirement already satisfied: scikit-learn in c:\\programdata\\anaconda3\\lib\\site-packages (1.3.0)\n",
      "Collecting scikit-learn\n",
      "  Obtaining dependency information for scikit-learn from https://files.pythonhosted.org/packages/f1/7d/2e562207176a5dcdad513085670674bb11ffaf37e1393eacb6d7fb502481/scikit_learn-1.3.1-cp311-cp311-win_amd64.whl.metadata\n",
      "  Downloading scikit_learn-1.3.1-cp311-cp311-win_amd64.whl.metadata (11 kB)\n",
      "Requirement already satisfied: numpy<2.0,>=1.17.3 in c:\\programdata\\anaconda3\\lib\\site-packages (from scikit-learn) (1.24.3)\n",
      "Requirement already satisfied: scipy>=1.5.0 in c:\\programdata\\anaconda3\\lib\\site-packages (from scikit-learn) (1.10.1)\n",
      "Requirement already satisfied: joblib>=1.1.1 in c:\\programdata\\anaconda3\\lib\\site-packages (from scikit-learn) (1.2.0)\n",
      "Requirement already satisfied: threadpoolctl>=2.0.0 in c:\\programdata\\anaconda3\\lib\\site-packages (from scikit-learn) (2.2.0)\n",
      "Downloading scikit_learn-1.3.1-cp311-cp311-win_amd64.whl (9.2 MB)\n",
      "   ---------------------------------------- 0.0/9.2 MB ? eta -:--:--\n",
      "   - -------------------------------------- 0.2/9.2 MB 4.8 MB/s eta 0:00:02\n",
      "   -- ------------------------------------- 0.6/9.2 MB 6.5 MB/s eta 0:00:02\n",
      "   ---- ----------------------------------- 1.0/9.2 MB 7.0 MB/s eta 0:00:02\n",
      "   ----- ---------------------------------- 1.4/9.2 MB 7.3 MB/s eta 0:00:02\n",
      "   ------- -------------------------------- 1.8/9.2 MB 7.4 MB/s eta 0:00:02\n",
      "   --------- ------------------------------ 2.1/9.2 MB 7.8 MB/s eta 0:00:01\n",
      "   ---------- ----------------------------- 2.4/9.2 MB 7.4 MB/s eta 0:00:01\n",
      "   ------------ --------------------------- 2.8/9.2 MB 7.5 MB/s eta 0:00:01\n",
      "   ------------- -------------------------- 3.2/9.2 MB 7.6 MB/s eta 0:00:01\n",
      "   --------------- ------------------------ 3.6/9.2 MB 7.6 MB/s eta 0:00:01\n",
      "   ----------------- ---------------------- 3.9/9.2 MB 7.6 MB/s eta 0:00:01\n",
      "   ------------------ --------------------- 4.3/9.2 MB 7.7 MB/s eta 0:00:01\n",
      "   -------------------- ------------------- 4.7/9.2 MB 7.7 MB/s eta 0:00:01\n",
      "   ---------------------- ----------------- 5.1/9.2 MB 7.8 MB/s eta 0:00:01\n",
      "   ----------------------- ---------------- 5.5/9.2 MB 7.8 MB/s eta 0:00:01\n",
      "   ------------------------ --------------- 5.7/9.2 MB 7.7 MB/s eta 0:00:01\n",
      "   -------------------------- ------------- 6.1/9.2 MB 7.7 MB/s eta 0:00:01\n",
      "   ---------------------------- ----------- 6.5/9.2 MB 7.8 MB/s eta 0:00:01\n",
      "   ----------------------------- ---------- 6.8/9.2 MB 7.7 MB/s eta 0:00:01\n",
      "   ------------------------------- -------- 7.2/9.2 MB 7.8 MB/s eta 0:00:01\n",
      "   -------------------------------- ------- 7.6/9.2 MB 7.8 MB/s eta 0:00:01\n",
      "   ---------------------------------- ----- 7.9/9.2 MB 7.8 MB/s eta 0:00:01\n",
      "   ------------------------------------ --- 8.3/9.2 MB 7.8 MB/s eta 0:00:01\n",
      "   ------------------------------------- -- 8.7/9.2 MB 7.8 MB/s eta 0:00:01\n",
      "   ---------------------------------------  9.1/9.2 MB 7.8 MB/s eta 0:00:01\n",
      "   ---------------------------------------  9.2/9.2 MB 7.8 MB/s eta 0:00:01\n",
      "   ---------------------------------------  9.2/9.2 MB 7.8 MB/s eta 0:00:01\n",
      "   ---------------------------------------  9.2/9.2 MB 7.8 MB/s eta 0:00:01\n",
      "   ---------------------------------------  9.2/9.2 MB 7.8 MB/s eta 0:00:01\n",
      "   ---------------------------------------  9.2/9.2 MB 7.8 MB/s eta 0:00:01\n",
      "   ---------------------------------------- 9.2/9.2 MB 6.5 MB/s eta 0:00:00\n",
      "Installing collected packages: scikit-learn\n",
      "  Attempting uninstall: scikit-learn\n",
      "    Found existing installation: scikit-learn 1.3.0\n",
      "    Uninstalling scikit-learn-1.3.0:\n",
      "      Successfully uninstalled scikit-learn-1.3.0\n",
      "Successfully installed scikit-learn-1.3.1\n"
     ]
    }
   ],
   "source": [
    "!pip install -U scikit-learn\n"
   ]
  },
  {
   "cell_type": "code",
   "execution_count": 2,
   "id": "7f0e324a-cdc9-4bf0-bf22-b07a3dc4f3f7",
   "metadata": {
    "tags": []
   },
   "outputs": [],
   "source": [
    "import pandas as pd\n",
    "import numpy as np\n",
    "import numpy.random as rnd\n",
    "import matplotlib.pyplot as plt\n",
    "import math\n",
    "from sklearn.linear_model import Perceptron\n",
    "from sklearn . neural_network import MLPClassifier\n",
    "from sklearn.model_selection import train_test_split\n",
    "from sklearn.metrics import accuracy_score, confusion_matrix\n",
    "import sys\n",
    "import tensorflow as tf\n",
    "from tensorflow import keras\n",
    "import os\n"
   ]
  },
  {
   "cell_type": "markdown",
   "id": "a24a0fe5-66bd-4808-a0a9-401dea2e57f8",
   "metadata": {},
   "source": [
    "# 1"
   ]
  },
  {
   "cell_type": "code",
   "execution_count": 3,
   "id": "d4dc2a8d-0aa4-48bd-8315-f297103ee6b4",
   "metadata": {
    "tags": []
   },
   "outputs": [],
   "source": [
    "df = keras.datasets.fashion_mnist"
   ]
  },
  {
   "cell_type": "code",
   "execution_count": 5,
   "id": "dbcefb94-0661-4e9a-bedf-18e15e51f553",
   "metadata": {
    "tags": []
   },
   "outputs": [
    {
     "data": {
      "text/plain": [
       "<module 'keras.api._v2.keras.datasets.fashion_mnist' from 'C:\\\\Users\\\\Alexis\\\\AppData\\\\Roaming\\\\Python\\\\Python311\\\\site-packages\\\\keras\\\\api\\\\_v2\\\\keras\\\\datasets\\\\fashion_mnist\\\\__init__.py'>"
      ]
     },
     "metadata": {},
     "output_type": "display_data"
    }
   ],
   "source": [
    "display (df)"
   ]
  },
  {
   "cell_type": "markdown",
   "id": "271a0916-4a14-4508-8a77-fbbc26dbd2e5",
   "metadata": {},
   "source": [
    "# 2"
   ]
  },
  {
   "cell_type": "code",
   "execution_count": 8,
   "id": "25469299-45e8-466a-8c33-b40cfd3f4353",
   "metadata": {
    "tags": []
   },
   "outputs": [
    {
     "data": {
      "text/plain": [
       "<matplotlib.image.AxesImage at 0x176ded9a950>"
      ]
     },
     "execution_count": 8,
     "metadata": {},
     "output_type": "execute_result"
    },
    {
     "data": {
      "image/png": "[encoded data removed]",
      "text/plain": [
       "<Figure size 640x480 with 3 Axes>"
      ]
     },
     "metadata": {},
     "output_type": "display_data"
    }
   ],
   "source": [
    "(xtrain, ytrain), (xtest, ytest) = df.load_data()\n",
    "\n",
    "plt.subplot(131)\n",
    "plt.imshow(xtrain[0])\n",
    "plt.subplot(132)\n",
    "plt.imshow(xtrain[1])\n",
    "plt.subplot(133)\n",
    "plt.imshow(xtrain[2])"
   ]
  },
  {
   "cell_type": "markdown",
   "id": "6ae46609-a85c-412f-b73e-53d5101a3014",
   "metadata": {},
   "source": [
    "# 3"
   ]
  },
  {
   "cell_type": "code",
   "execution_count": 10,
   "id": "7e89ac5c-afae-41ac-afa5-38b212fc310a",
   "metadata": {
    "tags": []
   },
   "outputs": [],
   "source": [
    "xtrain = xtrain/255\n",
    "xtest = xtest/255"
   ]
  },
  {
   "cell_type": "markdown",
   "id": "8834390e-34ec-4519-b3b1-f80e008ec6ee",
   "metadata": {},
   "source": [
    "# 4"
   ]
  },
  {
   "cell_type": "code",
   "execution_count": 13,
   "id": "17381abd-0679-48e5-a52d-096a7b4b4acd",
   "metadata": {
    "tags": []
   },
   "outputs": [
    {
     "data": {
      "text/plain": [
       "(60000, 28, 28)"
      ]
     },
     "execution_count": 13,
     "metadata": {},
     "output_type": "execute_result"
    }
   ],
   "source": [
    "#print(\"echatilion d'entrainement :\", '\\n', ytrain.value_counts() )\n",
    "#print('\\n', \"echatilion de test :\", '\\n', ytest.value_counts() )\n",
    "\n",
    "xtrain.shape"
   ]
  },
  {
   "cell_type": "code",
   "execution_count": 14,
   "id": "d1c37231-1e00-4f32-be7e-61f3e08a24cf",
   "metadata": {
    "tags": []
   },
   "outputs": [
    {
     "data": {
      "text/plain": [
       "(10000, 28, 28)"
      ]
     },
     "execution_count": 14,
     "metadata": {},
     "output_type": "execute_result"
    }
   ],
   "source": [
    "xtest.shape"
   ]
  },
  {
   "cell_type": "markdown",
   "id": "47d95192-be75-4560-955e-65e9211d6d71",
   "metadata": {},
   "source": [
    "# 5"
   ]
  },
  {
   "cell_type": "code",
   "execution_count": 15,
   "id": "062456a4-5d64-48c0-9a60-b65f493251ed",
   "metadata": {
    "tags": []
   },
   "outputs": [],
   "source": [
    "mdl = keras.models.Sequential([\n",
    " keras.layers.Flatten(input_shape=[28, 28]),\n",
    " keras.layers.Dense(300, kernel_initializer=\"he_normal\"),\n",
    " keras.layers.LeakyReLU(),\n",
    " keras.layers.Dense(100, kernel_initializer=\"he_normal\"),\n",
    " keras.layers.LeakyReLU(),\n",
    " keras.layers.Dense(10, activation=\"softmax\")\n",
    "])"
   ]
  },
  {
   "cell_type": "markdown",
   "id": "53375fe3-9e51-4844-849f-e864997c1acb",
   "metadata": {
    "tags": []
   },
   "source": [
    "# 6"
   ]
  },
  {
   "cell_type": "code",
   "execution_count": 17,
   "id": "fdb77eab-da3f-46f7-a035-9626a1ab894f",
   "metadata": {
    "tags": []
   },
   "outputs": [
    {
     "name": "stdout",
     "output_type": "stream",
     "text": [
      "Model: \"sequential\"\n",
      "_________________________________________________________________\n",
      " Layer (type)                Output Shape              Param #   \n",
      "=================================================================\n",
      " flatten (Flatten)           (None, 784)               0         \n",
      "                                                                 \n",
      " dense (Dense)               (None, 300)               235500    \n",
      "                                                                 \n",
      " leaky_re_lu (LeakyReLU)     (None, 300)               0         \n",
      "                                                                 \n",
      " dense_1 (Dense)             (None, 100)               30100     \n",
      "                                                                 \n",
      " leaky_re_lu_1 (LeakyReLU)   (None, 100)               0         \n",
      "                                                                 \n",
      " dense_2 (Dense)             (None, 10)                1010      \n",
      "                                                                 \n",
      "=================================================================\n",
      "Total params: 266610 (1.02 MB)\n",
      "Trainable params: 266610 (1.02 MB)\n",
      "Non-trainable params: 0 (0.00 Byte)\n",
      "_________________________________________________________________\n"
     ]
    }
   ],
   "source": [
    "mdl.summary()"
   ]
  },
  {
   "cell_type": "markdown",
   "id": "6a606982-5ab7-41e9-a79f-a06dc3623d34",
   "metadata": {
    "tags": []
   },
   "source": [
    "# 7"
   ]
  },
  {
   "cell_type": "code",
   "execution_count": 20,
   "id": "c39effbe-7465-49bd-9fae-83a80d8750b0",
   "metadata": {
    "tags": []
   },
   "outputs": [
    {
     "ename": "RuntimeError",
     "evalue": "You must compile your model before training/testing. Use `model.compile(optimizer, loss)`.",
     "output_type": "error",
     "traceback": [
      "\u001b[1;31m---------------------------------------------------------------------------\u001b[0m",
      "\u001b[1;31mRuntimeError\u001b[0m                              Traceback (most recent call last)",
      "Cell \u001b[1;32mIn[20], line 1\u001b[0m\n\u001b[1;32m----> 1\u001b[0m model \u001b[38;5;241m=\u001b[39m mdl\u001b[38;5;241m.\u001b[39mfit(xtrain, ytrain, epochs\u001b[38;5;241m=\u001b[39m\u001b[38;5;241m100\u001b[39m, validation_data\u001b[38;5;241m=\u001b[39m(xtest, ytest))\n",
      "File \u001b[1;32m~\\AppData\\Roaming\\Python\\Python311\\site-packages\\keras\\src\\utils\\traceback_utils.py:70\u001b[0m, in \u001b[0;36mfilter_traceback.<locals>.error_handler\u001b[1;34m(*args, **kwargs)\u001b[0m\n\u001b[0;32m     67\u001b[0m     filtered_tb \u001b[38;5;241m=\u001b[39m _process_traceback_frames(e\u001b[38;5;241m.\u001b[39m__traceback__)\n\u001b[0;32m     68\u001b[0m     \u001b[38;5;66;03m# To get the full stack trace, call:\u001b[39;00m\n\u001b[0;32m     69\u001b[0m     \u001b[38;5;66;03m# `tf.debugging.disable_traceback_filtering()`\u001b[39;00m\n\u001b[1;32m---> 70\u001b[0m     \u001b[38;5;28;01mraise\u001b[39;00m e\u001b[38;5;241m.\u001b[39mwith_traceback(filtered_tb) \u001b[38;5;28;01mfrom\u001b[39;00m \u001b[38;5;28;01mNone\u001b[39;00m\n\u001b[0;32m     71\u001b[0m \u001b[38;5;28;01mfinally\u001b[39;00m:\n\u001b[0;32m     72\u001b[0m     \u001b[38;5;28;01mdel\u001b[39;00m filtered_tb\n",
      "File \u001b[1;32m~\\AppData\\Roaming\\Python\\Python311\\site-packages\\keras\\src\\engine\\training.py:3875\u001b[0m, in \u001b[0;36mModel._assert_compile_was_called\u001b[1;34m(self)\u001b[0m\n\u001b[0;32m   3869\u001b[0m \u001b[38;5;28;01mdef\u001b[39;00m \u001b[38;5;21m_assert_compile_was_called\u001b[39m(\u001b[38;5;28mself\u001b[39m):\n\u001b[0;32m   3870\u001b[0m     \u001b[38;5;66;03m# Checks whether `compile` has been called. If it has been called,\u001b[39;00m\n\u001b[0;32m   3871\u001b[0m     \u001b[38;5;66;03m# then the optimizer is set. This is different from whether the\u001b[39;00m\n\u001b[0;32m   3872\u001b[0m     \u001b[38;5;66;03m# model is compiled\u001b[39;00m\n\u001b[0;32m   3873\u001b[0m     \u001b[38;5;66;03m# (i.e. whether the model is built and its inputs/outputs are set).\u001b[39;00m\n\u001b[0;32m   3874\u001b[0m     \u001b[38;5;28;01mif\u001b[39;00m \u001b[38;5;129;01mnot\u001b[39;00m \u001b[38;5;28mself\u001b[39m\u001b[38;5;241m.\u001b[39m_is_compiled:\n\u001b[1;32m-> 3875\u001b[0m         \u001b[38;5;28;01mraise\u001b[39;00m \u001b[38;5;167;01mRuntimeError\u001b[39;00m(\n\u001b[0;32m   3876\u001b[0m             \u001b[38;5;124m\"\u001b[39m\u001b[38;5;124mYou must compile your model before \u001b[39m\u001b[38;5;124m\"\u001b[39m\n\u001b[0;32m   3877\u001b[0m             \u001b[38;5;124m\"\u001b[39m\u001b[38;5;124mtraining/testing. \u001b[39m\u001b[38;5;124m\"\u001b[39m\n\u001b[0;32m   3878\u001b[0m             \u001b[38;5;124m\"\u001b[39m\u001b[38;5;124mUse `model.compile(optimizer, loss)`.\u001b[39m\u001b[38;5;124m\"\u001b[39m\n\u001b[0;32m   3879\u001b[0m         )\n",
      "\u001b[1;31mRuntimeError\u001b[0m: You must compile your model before training/testing. Use `model.compile(optimizer, loss)`."
     ]
    }
   ],
   "source": [
    "model = mdl.fit(xtrain, ytrain, epochs=100, validation_data=(xtest, ytest));\n"
   ]
  },
  {
   "cell_type": "code",
   "execution_count": 21,
   "id": "ae77b4ce-da3d-48b7-aecb-a394ca77e614",
   "metadata": {
    "tags": []
   },
   "outputs": [
    {
     "name": "stdout",
     "output_type": "stream",
     "text": [
      "Epoch 1/100\n",
      "1875/1875 [==============================] - 5s 2ms/step - loss: 1.2839 - accuracy: 0.6036 - val_loss: 0.8860 - val_accuracy: 0.6927\n",
      "Epoch 2/100\n",
      "1875/1875 [==============================] - 3s 2ms/step - loss: 0.7787 - accuracy: 0.7331 - val_loss: 0.7259 - val_accuracy: 0.7448\n",
      "Epoch 3/100\n",
      "1875/1875 [==============================] - 3s 2ms/step - loss: 0.6722 - accuracy: 0.7704 - val_loss: 0.6537 - val_accuracy: 0.7737\n",
      "Epoch 4/100\n",
      "1875/1875 [==============================] - 3s 2ms/step - loss: 0.6159 - accuracy: 0.7899 - val_loss: 0.6135 - val_accuracy: 0.7865\n",
      "Epoch 5/100\n",
      "1875/1875 [==============================] - 3s 2ms/step - loss: 0.5792 - accuracy: 0.8013 - val_loss: 0.5845 - val_accuracy: 0.7961\n",
      "Epoch 6/100\n",
      "1875/1875 [==============================] - 3s 2ms/step - loss: 0.5527 - accuracy: 0.8112 - val_loss: 0.5617 - val_accuracy: 0.8047\n",
      "Epoch 7/100\n",
      "1875/1875 [==============================] - 3s 2ms/step - loss: 0.5326 - accuracy: 0.8173 - val_loss: 0.5480 - val_accuracy: 0.8089\n",
      "Epoch 8/100\n",
      "1875/1875 [==============================] - 3s 2ms/step - loss: 0.5162 - accuracy: 0.8217 - val_loss: 0.5356 - val_accuracy: 0.8118\n",
      "Epoch 9/100\n",
      "1875/1875 [==============================] - 3s 2ms/step - loss: 0.5032 - accuracy: 0.8254 - val_loss: 0.5203 - val_accuracy: 0.8173\n",
      "Epoch 10/100\n",
      "1875/1875 [==============================] - 3s 2ms/step - loss: 0.4919 - accuracy: 0.8304 - val_loss: 0.5115 - val_accuracy: 0.8209\n",
      "Epoch 11/100\n",
      "1875/1875 [==============================] - 3s 2ms/step - loss: 0.4823 - accuracy: 0.8333 - val_loss: 0.5026 - val_accuracy: 0.8236\n",
      "Epoch 12/100\n",
      "1875/1875 [==============================] - 3s 2ms/step - loss: 0.4744 - accuracy: 0.8355 - val_loss: 0.4969 - val_accuracy: 0.8247\n",
      "Epoch 13/100\n",
      "1875/1875 [==============================] - 3s 2ms/step - loss: 0.4671 - accuracy: 0.8382 - val_loss: 0.4915 - val_accuracy: 0.8282\n",
      "Epoch 14/100\n",
      "1875/1875 [==============================] - 3s 2ms/step - loss: 0.4605 - accuracy: 0.8403 - val_loss: 0.4866 - val_accuracy: 0.8293\n",
      "Epoch 15/100\n",
      "1875/1875 [==============================] - 3s 2ms/step - loss: 0.4546 - accuracy: 0.8416 - val_loss: 0.4820 - val_accuracy: 0.8295\n",
      "Epoch 16/100\n",
      "1875/1875 [==============================] - 3s 2ms/step - loss: 0.4493 - accuracy: 0.8436 - val_loss: 0.4764 - val_accuracy: 0.8330\n",
      "Epoch 17/100\n",
      "1875/1875 [==============================] - 3s 2ms/step - loss: 0.4445 - accuracy: 0.8458 - val_loss: 0.4730 - val_accuracy: 0.8326\n",
      "Epoch 18/100\n",
      "1875/1875 [==============================] - 3s 2ms/step - loss: 0.4400 - accuracy: 0.8469 - val_loss: 0.4710 - val_accuracy: 0.8351\n",
      "Epoch 19/100\n",
      "1875/1875 [==============================] - 3s 2ms/step - loss: 0.4359 - accuracy: 0.8478 - val_loss: 0.4679 - val_accuracy: 0.8353\n",
      "Epoch 20/100\n",
      "1875/1875 [==============================] - 3s 2ms/step - loss: 0.4325 - accuracy: 0.8499 - val_loss: 0.4618 - val_accuracy: 0.8361\n",
      "Epoch 21/100\n",
      "1875/1875 [==============================] - 3s 2ms/step - loss: 0.4289 - accuracy: 0.8512 - val_loss: 0.4593 - val_accuracy: 0.8359\n",
      "Epoch 22/100\n",
      "1875/1875 [==============================] - 3s 2ms/step - loss: 0.4257 - accuracy: 0.8515 - val_loss: 0.4609 - val_accuracy: 0.8345\n",
      "Epoch 23/100\n",
      "1875/1875 [==============================] - 3s 2ms/step - loss: 0.4224 - accuracy: 0.8532 - val_loss: 0.4555 - val_accuracy: 0.8393\n",
      "Epoch 24/100\n",
      "1875/1875 [==============================] - 3s 2ms/step - loss: 0.4197 - accuracy: 0.8542 - val_loss: 0.4526 - val_accuracy: 0.8391\n",
      "Epoch 25/100\n",
      "1875/1875 [==============================] - 3s 2ms/step - loss: 0.4168 - accuracy: 0.8549 - val_loss: 0.4509 - val_accuracy: 0.8387\n",
      "Epoch 26/100\n",
      "1875/1875 [==============================] - 3s 2ms/step - loss: 0.4145 - accuracy: 0.8564 - val_loss: 0.4468 - val_accuracy: 0.8418\n",
      "Epoch 27/100\n",
      "1875/1875 [==============================] - 3s 2ms/step - loss: 0.4118 - accuracy: 0.8579 - val_loss: 0.4452 - val_accuracy: 0.8424\n",
      "Epoch 28/100\n",
      "1875/1875 [==============================] - 3s 2ms/step - loss: 0.4096 - accuracy: 0.8577 - val_loss: 0.4431 - val_accuracy: 0.8425\n",
      "Epoch 29/100\n",
      "1875/1875 [==============================] - 3s 2ms/step - loss: 0.4071 - accuracy: 0.8584 - val_loss: 0.4417 - val_accuracy: 0.8458\n",
      "Epoch 30/100\n",
      "1875/1875 [==============================] - 3s 2ms/step - loss: 0.4050 - accuracy: 0.8587 - val_loss: 0.4384 - val_accuracy: 0.8442\n",
      "Epoch 31/100\n",
      "1875/1875 [==============================] - 3s 1ms/step - loss: 0.4025 - accuracy: 0.8602 - val_loss: 0.4368 - val_accuracy: 0.8443\n",
      "Epoch 32/100\n",
      "1875/1875 [==============================] - 3s 2ms/step - loss: 0.4009 - accuracy: 0.8600 - val_loss: 0.4364 - val_accuracy: 0.8470\n",
      "Epoch 33/100\n",
      "1875/1875 [==============================] - 3s 2ms/step - loss: 0.3986 - accuracy: 0.8612 - val_loss: 0.4327 - val_accuracy: 0.8475\n",
      "Epoch 34/100\n",
      "1875/1875 [==============================] - 3s 2ms/step - loss: 0.3968 - accuracy: 0.8614 - val_loss: 0.4318 - val_accuracy: 0.8473\n",
      "Epoch 35/100\n",
      "1875/1875 [==============================] - 3s 2ms/step - loss: 0.3950 - accuracy: 0.8616 - val_loss: 0.4301 - val_accuracy: 0.8485\n",
      "Epoch 36/100\n",
      "1875/1875 [==============================] - 3s 2ms/step - loss: 0.3931 - accuracy: 0.8625 - val_loss: 0.4292 - val_accuracy: 0.8474\n",
      "Epoch 37/100\n",
      "1875/1875 [==============================] - 3s 2ms/step - loss: 0.3916 - accuracy: 0.8632 - val_loss: 0.4277 - val_accuracy: 0.8495\n",
      "Epoch 38/100\n",
      "1875/1875 [==============================] - 3s 2ms/step - loss: 0.3896 - accuracy: 0.8644 - val_loss: 0.4256 - val_accuracy: 0.8493\n",
      "Epoch 39/100\n",
      "1875/1875 [==============================] - 3s 2ms/step - loss: 0.3880 - accuracy: 0.8643 - val_loss: 0.4247 - val_accuracy: 0.8490\n",
      "Epoch 40/100\n",
      "1875/1875 [==============================] - 3s 2ms/step - loss: 0.3866 - accuracy: 0.8645 - val_loss: 0.4273 - val_accuracy: 0.8491\n",
      "Epoch 41/100\n",
      "1875/1875 [==============================] - 3s 2ms/step - loss: 0.3850 - accuracy: 0.8651 - val_loss: 0.4217 - val_accuracy: 0.8516\n",
      "Epoch 42/100\n",
      "1875/1875 [==============================] - 3s 2ms/step - loss: 0.3833 - accuracy: 0.8661 - val_loss: 0.4210 - val_accuracy: 0.8510\n",
      "Epoch 43/100\n",
      "1875/1875 [==============================] - 3s 2ms/step - loss: 0.3819 - accuracy: 0.8672 - val_loss: 0.4227 - val_accuracy: 0.8503\n",
      "Epoch 44/100\n",
      "1875/1875 [==============================] - 3s 2ms/step - loss: 0.3800 - accuracy: 0.8674 - val_loss: 0.4247 - val_accuracy: 0.8485\n",
      "Epoch 45/100\n",
      "1875/1875 [==============================] - 3s 2ms/step - loss: 0.3790 - accuracy: 0.8677 - val_loss: 0.4183 - val_accuracy: 0.8525\n",
      "Epoch 46/100\n",
      "1875/1875 [==============================] - 3s 2ms/step - loss: 0.3773 - accuracy: 0.8688 - val_loss: 0.4163 - val_accuracy: 0.8536\n",
      "Epoch 47/100\n",
      "1875/1875 [==============================] - 3s 2ms/step - loss: 0.3763 - accuracy: 0.8682 - val_loss: 0.4137 - val_accuracy: 0.8545\n",
      "Epoch 48/100\n",
      "1875/1875 [==============================] - 3s 2ms/step - loss: 0.3744 - accuracy: 0.8689 - val_loss: 0.4160 - val_accuracy: 0.8531\n",
      "Epoch 49/100\n",
      "1875/1875 [==============================] - 3s 2ms/step - loss: 0.3732 - accuracy: 0.8699 - val_loss: 0.4142 - val_accuracy: 0.8529\n",
      "Epoch 50/100\n",
      "1875/1875 [==============================] - 3s 2ms/step - loss: 0.3718 - accuracy: 0.8695 - val_loss: 0.4112 - val_accuracy: 0.8555\n",
      "Epoch 51/100\n",
      "1875/1875 [==============================] - 3s 2ms/step - loss: 0.3706 - accuracy: 0.8708 - val_loss: 0.4106 - val_accuracy: 0.8561\n",
      "Epoch 52/100\n",
      "1875/1875 [==============================] - 3s 2ms/step - loss: 0.3695 - accuracy: 0.8710 - val_loss: 0.4091 - val_accuracy: 0.8557\n",
      "Epoch 53/100\n",
      "1875/1875 [==============================] - 3s 2ms/step - loss: 0.3681 - accuracy: 0.8718 - val_loss: 0.4096 - val_accuracy: 0.8544\n",
      "Epoch 54/100\n",
      "1875/1875 [==============================] - 3s 2ms/step - loss: 0.3668 - accuracy: 0.8716 - val_loss: 0.4084 - val_accuracy: 0.8553\n",
      "Epoch 55/100\n",
      "1875/1875 [==============================] - 3s 2ms/step - loss: 0.3653 - accuracy: 0.8721 - val_loss: 0.4059 - val_accuracy: 0.8574\n",
      "Epoch 56/100\n",
      "1875/1875 [==============================] - 3s 2ms/step - loss: 0.3645 - accuracy: 0.8732 - val_loss: 0.4049 - val_accuracy: 0.8572\n",
      "Epoch 57/100\n",
      "1875/1875 [==============================] - 3s 2ms/step - loss: 0.3633 - accuracy: 0.8732 - val_loss: 0.4073 - val_accuracy: 0.8563\n",
      "Epoch 58/100\n",
      "1875/1875 [==============================] - 3s 2ms/step - loss: 0.3621 - accuracy: 0.8728 - val_loss: 0.4037 - val_accuracy: 0.8581\n",
      "Epoch 59/100\n",
      "1875/1875 [==============================] - 3s 2ms/step - loss: 0.3608 - accuracy: 0.8746 - val_loss: 0.4031 - val_accuracy: 0.8577\n",
      "Epoch 60/100\n",
      "1875/1875 [==============================] - 3s 2ms/step - loss: 0.3600 - accuracy: 0.8741 - val_loss: 0.4026 - val_accuracy: 0.8578\n",
      "Epoch 61/100\n",
      "1875/1875 [==============================] - 3s 2ms/step - loss: 0.3584 - accuracy: 0.8746 - val_loss: 0.4020 - val_accuracy: 0.8584\n",
      "Epoch 62/100\n",
      "1875/1875 [==============================] - 3s 2ms/step - loss: 0.3574 - accuracy: 0.8754 - val_loss: 0.4003 - val_accuracy: 0.8605\n",
      "Epoch 63/100\n",
      "1875/1875 [==============================] - 3s 2ms/step - loss: 0.3562 - accuracy: 0.8761 - val_loss: 0.3998 - val_accuracy: 0.8598\n",
      "Epoch 64/100\n",
      "1875/1875 [==============================] - 3s 2ms/step - loss: 0.3553 - accuracy: 0.8760 - val_loss: 0.3978 - val_accuracy: 0.8600\n",
      "Epoch 65/100\n",
      "1875/1875 [==============================] - 3s 2ms/step - loss: 0.3542 - accuracy: 0.8759 - val_loss: 0.4000 - val_accuracy: 0.8568\n",
      "Epoch 66/100\n",
      "1875/1875 [==============================] - 3s 2ms/step - loss: 0.3530 - accuracy: 0.8760 - val_loss: 0.3984 - val_accuracy: 0.8598\n",
      "Epoch 67/100\n",
      "1875/1875 [==============================] - 3s 2ms/step - loss: 0.3523 - accuracy: 0.8767 - val_loss: 0.4003 - val_accuracy: 0.8580\n",
      "Epoch 68/100\n",
      "1875/1875 [==============================] - 3s 2ms/step - loss: 0.3514 - accuracy: 0.8776 - val_loss: 0.3969 - val_accuracy: 0.8590\n",
      "Epoch 69/100\n",
      "1875/1875 [==============================] - 3s 2ms/step - loss: 0.3499 - accuracy: 0.8778 - val_loss: 0.3971 - val_accuracy: 0.8603\n",
      "Epoch 70/100\n",
      "1875/1875 [==============================] - 3s 2ms/step - loss: 0.3491 - accuracy: 0.8772 - val_loss: 0.3952 - val_accuracy: 0.8604\n",
      "Epoch 71/100\n",
      "1875/1875 [==============================] - 3s 2ms/step - loss: 0.3481 - accuracy: 0.8783 - val_loss: 0.3945 - val_accuracy: 0.8606\n",
      "Epoch 72/100\n",
      "1875/1875 [==============================] - 3s 2ms/step - loss: 0.3472 - accuracy: 0.8784 - val_loss: 0.3935 - val_accuracy: 0.8608\n",
      "Epoch 73/100\n",
      "1875/1875 [==============================] - 3s 2ms/step - loss: 0.3463 - accuracy: 0.8788 - val_loss: 0.3923 - val_accuracy: 0.8603\n",
      "Epoch 74/100\n",
      "1875/1875 [==============================] - 3s 2ms/step - loss: 0.3450 - accuracy: 0.8791 - val_loss: 0.3957 - val_accuracy: 0.8606\n",
      "Epoch 75/100\n",
      "1875/1875 [==============================] - 3s 2ms/step - loss: 0.3445 - accuracy: 0.8787 - val_loss: 0.3910 - val_accuracy: 0.8641\n",
      "Epoch 76/100\n",
      "1875/1875 [==============================] - 3s 2ms/step - loss: 0.3432 - accuracy: 0.8794 - val_loss: 0.3933 - val_accuracy: 0.8621\n",
      "Epoch 77/100\n",
      "1875/1875 [==============================] - 3s 2ms/step - loss: 0.3423 - accuracy: 0.8791 - val_loss: 0.3896 - val_accuracy: 0.8634\n",
      "Epoch 78/100\n",
      "1875/1875 [==============================] - 3s 2ms/step - loss: 0.3415 - accuracy: 0.8795 - val_loss: 0.3965 - val_accuracy: 0.8578\n",
      "Epoch 79/100\n",
      "1875/1875 [==============================] - 3s 2ms/step - loss: 0.3406 - accuracy: 0.8805 - val_loss: 0.3897 - val_accuracy: 0.8631\n",
      "Epoch 80/100\n",
      "1875/1875 [==============================] - 3s 2ms/step - loss: 0.3394 - accuracy: 0.8809 - val_loss: 0.3876 - val_accuracy: 0.8630\n",
      "Epoch 81/100\n",
      "1875/1875 [==============================] - 3s 2ms/step - loss: 0.3389 - accuracy: 0.8810 - val_loss: 0.3870 - val_accuracy: 0.8629\n",
      "Epoch 82/100\n",
      "1875/1875 [==============================] - 3s 2ms/step - loss: 0.3379 - accuracy: 0.8811 - val_loss: 0.3881 - val_accuracy: 0.8638\n",
      "Epoch 83/100\n",
      "1875/1875 [==============================] - 3s 2ms/step - loss: 0.3370 - accuracy: 0.8820 - val_loss: 0.3888 - val_accuracy: 0.8624\n",
      "Epoch 84/100\n",
      "1875/1875 [==============================] - 3s 2ms/step - loss: 0.3362 - accuracy: 0.8817 - val_loss: 0.3869 - val_accuracy: 0.8644\n",
      "Epoch 85/100\n",
      "1875/1875 [==============================] - 3s 2ms/step - loss: 0.3353 - accuracy: 0.8827 - val_loss: 0.3870 - val_accuracy: 0.8630\n",
      "Epoch 86/100\n",
      "1875/1875 [==============================] - 3s 2ms/step - loss: 0.3345 - accuracy: 0.8824 - val_loss: 0.3845 - val_accuracy: 0.8655\n",
      "Epoch 87/100\n",
      "1875/1875 [==============================] - 3s 2ms/step - loss: 0.3334 - accuracy: 0.8827 - val_loss: 0.3839 - val_accuracy: 0.8638\n",
      "Epoch 88/100\n",
      "1875/1875 [==============================] - 3s 2ms/step - loss: 0.3330 - accuracy: 0.8823 - val_loss: 0.3839 - val_accuracy: 0.8634\n",
      "Epoch 89/100\n",
      "1875/1875 [==============================] - 3s 2ms/step - loss: 0.3318 - accuracy: 0.8837 - val_loss: 0.3855 - val_accuracy: 0.8638\n",
      "Epoch 90/100\n",
      "1875/1875 [==============================] - 3s 2ms/step - loss: 0.3310 - accuracy: 0.8836 - val_loss: 0.3825 - val_accuracy: 0.8672\n",
      "Epoch 91/100\n",
      "1875/1875 [==============================] - 3s 2ms/step - loss: 0.3304 - accuracy: 0.8836 - val_loss: 0.3829 - val_accuracy: 0.8641\n",
      "Epoch 92/100\n",
      "1875/1875 [==============================] - 3s 2ms/step - loss: 0.3297 - accuracy: 0.8834 - val_loss: 0.3822 - val_accuracy: 0.8634\n",
      "Epoch 93/100\n",
      "1875/1875 [==============================] - 3s 2ms/step - loss: 0.3287 - accuracy: 0.8839 - val_loss: 0.3812 - val_accuracy: 0.8655\n",
      "Epoch 94/100\n",
      "1875/1875 [==============================] - 3s 2ms/step - loss: 0.3282 - accuracy: 0.8846 - val_loss: 0.3808 - val_accuracy: 0.8653\n",
      "Epoch 95/100\n",
      "1875/1875 [==============================] - 3s 2ms/step - loss: 0.3272 - accuracy: 0.8850 - val_loss: 0.3811 - val_accuracy: 0.8653\n",
      "Epoch 96/100\n",
      "1875/1875 [==============================] - 3s 2ms/step - loss: 0.3264 - accuracy: 0.8844 - val_loss: 0.3797 - val_accuracy: 0.8655\n",
      "Epoch 97/100\n",
      "1875/1875 [==============================] - 3s 2ms/step - loss: 0.3255 - accuracy: 0.8853 - val_loss: 0.3796 - val_accuracy: 0.8664\n",
      "Epoch 98/100\n",
      "1875/1875 [==============================] - 3s 2ms/step - loss: 0.3250 - accuracy: 0.8856 - val_loss: 0.3780 - val_accuracy: 0.8663\n",
      "Epoch 99/100\n",
      "1875/1875 [==============================] - 3s 2ms/step - loss: 0.3241 - accuracy: 0.8855 - val_loss: 0.3761 - val_accuracy: 0.8673\n",
      "Epoch 100/100\n",
      "1875/1875 [==============================] - 3s 2ms/step - loss: 0.3232 - accuracy: 0.8862 - val_loss: 0.3771 - val_accuracy: 0.8666\n"
     ]
    }
   ],
   "source": [
    "mdl.compile(loss=\"sparse_categorical_crossentropy\",optimizer=keras.optimizers.SGD(learning_rate=1e-3),\n",
    " metrics=[\"accuracy\"])\n",
    "\n",
    "model = mdl.fit(xtrain, ytrain, epochs=100, validation_data=(xtest, ytest));\n",
    "\n"
   ]
  },
  {
   "cell_type": "code",
   "execution_count": 22,
   "id": "69880619-45e3-4135-9fe5-81c726318c9f",
   "metadata": {
    "tags": []
   },
   "outputs": [
    {
     "data": {
      "image/png": "[encoded data removed]",
      "text/plain": [
       "<Figure size 800x700 with 1 Axes>"
      ]
     },
     "metadata": {},
     "output_type": "display_data"
    }
   ],
   "source": [
    "pd.DataFrame(model.history).plot(figsize=(8, 7))\n",
    "plt.grid(True)\n",
    "plt.show()"
   ]
  },
  {
   "cell_type": "markdown",
   "id": "cedc115b-30b0-4b8b-b5ad-3deb6c309755",
   "metadata": {},
   "source": [
    "# 8"
   ]
  },
  {
   "cell_type": "code",
   "execution_count": 24,
   "id": "69459f9a-92fa-407e-88f1-598262ddcf1e",
   "metadata": {
    "tags": []
   },
   "outputs": [
    {
     "name": "stdout",
     "output_type": "stream",
     "text": [
      "Model: \"sequential_1\"\n",
      "_________________________________________________________________\n",
      " Layer (type)                Output Shape              Param #   \n",
      "=================================================================\n",
      " flatten_1 (Flatten)         (None, 784)               0         \n",
      "                                                                 \n",
      " batch_normalization (Batch  (None, 784)               3136      \n",
      " Normalization)                                                  \n",
      "                                                                 \n",
      " dense_3 (Dense)             (None, 300)               235500    \n",
      "                                                                 \n",
      " batch_normalization_1 (Bat  (None, 300)               1200      \n",
      " chNormalization)                                                \n",
      "                                                                 \n",
      " dense_4 (Dense)             (None, 100)               30100     \n",
      "                                                                 \n",
      " batch_normalization_2 (Bat  (None, 100)               400       \n",
      " chNormalization)                                                \n",
      "                                                                 \n",
      " dense_5 (Dense)             (None, 10)                1010      \n",
      "                                                                 \n",
      "=================================================================\n",
      "Total params: 271346 (1.04 MB)\n",
      "Trainable params: 268978 (1.03 MB)\n",
      "Non-trainable params: 2368 (9.25 KB)\n",
      "_________________________________________________________________\n"
     ]
    }
   ],
   "source": [
    "mdl = keras.models.Sequential([\n",
    " keras.layers.Flatten(input_shape=[28, 28]),\n",
    " keras.layers.BatchNormalization(),\n",
    " keras.layers.Dense(300, activation=\"relu\"),\n",
    " keras.layers.BatchNormalization(),\n",
    " keras.layers.Dense(100, activation=\"relu\"),\n",
    " keras.layers.BatchNormalization(),\n",
    " keras.layers.Dense(10, activation=\"softmax\")\n",
    "    ])\n",
    "mdl.summary()"
   ]
  },
  {
   "cell_type": "code",
   "execution_count": 25,
   "id": "05feb2b2-eec7-4f4d-9640-d20abb7045e0",
   "metadata": {
    "tags": []
   },
   "outputs": [
    {
     "name": "stdout",
     "output_type": "stream",
     "text": [
      "Epoch 1/100\n",
      "1875/1875 [==============================] - 5s 2ms/step - loss: 0.8455 - accuracy: 0.7187 - val_loss: 0.5975 - val_accuracy: 0.7945\n",
      "Epoch 2/100\n",
      "1875/1875 [==============================] - 4s 2ms/step - loss: 0.5711 - accuracy: 0.8030 - val_loss: 0.5194 - val_accuracy: 0.8184\n",
      "Epoch 3/100\n",
      "1875/1875 [==============================] - 4s 2ms/step - loss: 0.5131 - accuracy: 0.8204 - val_loss: 0.4836 - val_accuracy: 0.8290\n",
      "Epoch 4/100\n",
      "1875/1875 [==============================] - 4s 2ms/step - loss: 0.4779 - accuracy: 0.8321 - val_loss: 0.4607 - val_accuracy: 0.8376\n",
      "Epoch 5/100\n",
      "1875/1875 [==============================] - 4s 2ms/step - loss: 0.4524 - accuracy: 0.8415 - val_loss: 0.4439 - val_accuracy: 0.8443\n",
      "Epoch 6/100\n",
      "1875/1875 [==============================] - 4s 2ms/step - loss: 0.4346 - accuracy: 0.8471 - val_loss: 0.4316 - val_accuracy: 0.8486\n",
      "Epoch 7/100\n",
      "1875/1875 [==============================] - 4s 2ms/step - loss: 0.4209 - accuracy: 0.8526 - val_loss: 0.4226 - val_accuracy: 0.8515\n",
      "Epoch 8/100\n",
      "1875/1875 [==============================] - 4s 2ms/step - loss: 0.4085 - accuracy: 0.8538 - val_loss: 0.4134 - val_accuracy: 0.8553\n",
      "Epoch 9/100\n",
      "1875/1875 [==============================] - 4s 2ms/step - loss: 0.3964 - accuracy: 0.8605 - val_loss: 0.4080 - val_accuracy: 0.8548\n",
      "Epoch 10/100\n",
      "1875/1875 [==============================] - 4s 2ms/step - loss: 0.3900 - accuracy: 0.8625 - val_loss: 0.4002 - val_accuracy: 0.8589\n",
      "Epoch 11/100\n",
      "1875/1875 [==============================] - 4s 2ms/step - loss: 0.3790 - accuracy: 0.8659 - val_loss: 0.3949 - val_accuracy: 0.8613\n",
      "Epoch 12/100\n",
      "1875/1875 [==============================] - 4s 2ms/step - loss: 0.3727 - accuracy: 0.8686 - val_loss: 0.3906 - val_accuracy: 0.8626\n",
      "Epoch 13/100\n",
      "1875/1875 [==============================] - 4s 2ms/step - loss: 0.3668 - accuracy: 0.8694 - val_loss: 0.3864 - val_accuracy: 0.8650\n",
      "Epoch 14/100\n",
      "1875/1875 [==============================] - 4s 2ms/step - loss: 0.3595 - accuracy: 0.8718 - val_loss: 0.3827 - val_accuracy: 0.8661\n",
      "Epoch 15/100\n",
      "1875/1875 [==============================] - 4s 2ms/step - loss: 0.3536 - accuracy: 0.8738 - val_loss: 0.3794 - val_accuracy: 0.8657\n",
      "Epoch 16/100\n",
      "1875/1875 [==============================] - 4s 2ms/step - loss: 0.3508 - accuracy: 0.8756 - val_loss: 0.3751 - val_accuracy: 0.8678\n",
      "Epoch 17/100\n",
      "1875/1875 [==============================] - 4s 2ms/step - loss: 0.3418 - accuracy: 0.8791 - val_loss: 0.3737 - val_accuracy: 0.8671\n",
      "Epoch 18/100\n",
      "1875/1875 [==============================] - 4s 2ms/step - loss: 0.3385 - accuracy: 0.8798 - val_loss: 0.3713 - val_accuracy: 0.8657\n",
      "Epoch 19/100\n",
      "1875/1875 [==============================] - 4s 2ms/step - loss: 0.3332 - accuracy: 0.8806 - val_loss: 0.3681 - val_accuracy: 0.8683\n",
      "Epoch 20/100\n",
      "1875/1875 [==============================] - 4s 2ms/step - loss: 0.3293 - accuracy: 0.8820 - val_loss: 0.3653 - val_accuracy: 0.8717\n",
      "Epoch 21/100\n",
      "1875/1875 [==============================] - 4s 2ms/step - loss: 0.3260 - accuracy: 0.8841 - val_loss: 0.3622 - val_accuracy: 0.8722\n",
      "Epoch 22/100\n",
      "1875/1875 [==============================] - 4s 2ms/step - loss: 0.3206 - accuracy: 0.8854 - val_loss: 0.3594 - val_accuracy: 0.8716\n",
      "Epoch 23/100\n",
      "1875/1875 [==============================] - 4s 2ms/step - loss: 0.3152 - accuracy: 0.8876 - val_loss: 0.3588 - val_accuracy: 0.8720\n",
      "Epoch 24/100\n",
      "1875/1875 [==============================] - 4s 2ms/step - loss: 0.3136 - accuracy: 0.8870 - val_loss: 0.3571 - val_accuracy: 0.8723\n",
      "Epoch 25/100\n",
      "1875/1875 [==============================] - 4s 2ms/step - loss: 0.3112 - accuracy: 0.8887 - val_loss: 0.3548 - val_accuracy: 0.8724\n",
      "Epoch 26/100\n",
      "1875/1875 [==============================] - 4s 2ms/step - loss: 0.3056 - accuracy: 0.8899 - val_loss: 0.3533 - val_accuracy: 0.8745\n",
      "Epoch 27/100\n",
      "1875/1875 [==============================] - 4s 2ms/step - loss: 0.3024 - accuracy: 0.8917 - val_loss: 0.3511 - val_accuracy: 0.8750\n",
      "Epoch 28/100\n",
      "1875/1875 [==============================] - 4s 2ms/step - loss: 0.2998 - accuracy: 0.8921 - val_loss: 0.3495 - val_accuracy: 0.8747\n",
      "Epoch 29/100\n",
      "1875/1875 [==============================] - 4s 2ms/step - loss: 0.2972 - accuracy: 0.8933 - val_loss: 0.3491 - val_accuracy: 0.8746\n",
      "Epoch 30/100\n",
      "1875/1875 [==============================] - 4s 2ms/step - loss: 0.2927 - accuracy: 0.8942 - val_loss: 0.3470 - val_accuracy: 0.8752\n",
      "Epoch 31/100\n",
      "1875/1875 [==============================] - 4s 2ms/step - loss: 0.2915 - accuracy: 0.8954 - val_loss: 0.3457 - val_accuracy: 0.8769\n",
      "Epoch 32/100\n",
      "1875/1875 [==============================] - 4s 2ms/step - loss: 0.2870 - accuracy: 0.8960 - val_loss: 0.3455 - val_accuracy: 0.8797\n",
      "Epoch 33/100\n",
      "1875/1875 [==============================] - 4s 2ms/step - loss: 0.2831 - accuracy: 0.8981 - val_loss: 0.3437 - val_accuracy: 0.8777\n",
      "Epoch 34/100\n",
      "1875/1875 [==============================] - 4s 2ms/step - loss: 0.2813 - accuracy: 0.8981 - val_loss: 0.3435 - val_accuracy: 0.8778\n",
      "Epoch 35/100\n",
      "1875/1875 [==============================] - 4s 2ms/step - loss: 0.2778 - accuracy: 0.9011 - val_loss: 0.3434 - val_accuracy: 0.8781\n",
      "Epoch 36/100\n",
      "1875/1875 [==============================] - 4s 2ms/step - loss: 0.2758 - accuracy: 0.8999 - val_loss: 0.3407 - val_accuracy: 0.8769\n",
      "Epoch 37/100\n",
      "1875/1875 [==============================] - 4s 2ms/step - loss: 0.2751 - accuracy: 0.9011 - val_loss: 0.3403 - val_accuracy: 0.8784\n",
      "Epoch 38/100\n",
      "1875/1875 [==============================] - 4s 2ms/step - loss: 0.2716 - accuracy: 0.9018 - val_loss: 0.3402 - val_accuracy: 0.8800\n",
      "Epoch 39/100\n",
      "1875/1875 [==============================] - 4s 2ms/step - loss: 0.2685 - accuracy: 0.9033 - val_loss: 0.3401 - val_accuracy: 0.8777\n",
      "Epoch 40/100\n",
      "1875/1875 [==============================] - 4s 2ms/step - loss: 0.2679 - accuracy: 0.9036 - val_loss: 0.3389 - val_accuracy: 0.8789\n",
      "Epoch 41/100\n",
      "1875/1875 [==============================] - 4s 2ms/step - loss: 0.2629 - accuracy: 0.9047 - val_loss: 0.3377 - val_accuracy: 0.8799\n",
      "Epoch 42/100\n",
      "1875/1875 [==============================] - 4s 2ms/step - loss: 0.2599 - accuracy: 0.9055 - val_loss: 0.3355 - val_accuracy: 0.8798\n",
      "Epoch 43/100\n",
      "1875/1875 [==============================] - 4s 2ms/step - loss: 0.2594 - accuracy: 0.9061 - val_loss: 0.3361 - val_accuracy: 0.8796\n",
      "Epoch 44/100\n",
      "1875/1875 [==============================] - 4s 2ms/step - loss: 0.2566 - accuracy: 0.9068 - val_loss: 0.3346 - val_accuracy: 0.8798\n",
      "Epoch 45/100\n",
      "1875/1875 [==============================] - 4s 2ms/step - loss: 0.2541 - accuracy: 0.9074 - val_loss: 0.3347 - val_accuracy: 0.8803\n",
      "Epoch 46/100\n",
      "1875/1875 [==============================] - 4s 2ms/step - loss: 0.2529 - accuracy: 0.9099 - val_loss: 0.3351 - val_accuracy: 0.8800\n",
      "Epoch 47/100\n",
      "1875/1875 [==============================] - 4s 2ms/step - loss: 0.2495 - accuracy: 0.9096 - val_loss: 0.3368 - val_accuracy: 0.8818\n",
      "Epoch 48/100\n",
      "1875/1875 [==============================] - 4s 2ms/step - loss: 0.2469 - accuracy: 0.9106 - val_loss: 0.3350 - val_accuracy: 0.8806\n",
      "Epoch 49/100\n",
      "1875/1875 [==============================] - 4s 2ms/step - loss: 0.2443 - accuracy: 0.9121 - val_loss: 0.3321 - val_accuracy: 0.8817\n",
      "Epoch 50/100\n",
      "1875/1875 [==============================] - 4s 2ms/step - loss: 0.2429 - accuracy: 0.9123 - val_loss: 0.3330 - val_accuracy: 0.8815\n",
      "Epoch 51/100\n",
      "1875/1875 [==============================] - 4s 2ms/step - loss: 0.2401 - accuracy: 0.9125 - val_loss: 0.3328 - val_accuracy: 0.8835\n",
      "Epoch 52/100\n",
      "1875/1875 [==============================] - 4s 2ms/step - loss: 0.2379 - accuracy: 0.9137 - val_loss: 0.3311 - val_accuracy: 0.8814\n",
      "Epoch 53/100\n",
      "1875/1875 [==============================] - 4s 2ms/step - loss: 0.2374 - accuracy: 0.9145 - val_loss: 0.3285 - val_accuracy: 0.8828\n",
      "Epoch 54/100\n",
      "1875/1875 [==============================] - 4s 2ms/step - loss: 0.2360 - accuracy: 0.9144 - val_loss: 0.3321 - val_accuracy: 0.8827\n",
      "Epoch 55/100\n",
      "1875/1875 [==============================] - 4s 2ms/step - loss: 0.2311 - accuracy: 0.9169 - val_loss: 0.3297 - val_accuracy: 0.8826\n",
      "Epoch 56/100\n",
      "1875/1875 [==============================] - 4s 2ms/step - loss: 0.2307 - accuracy: 0.9165 - val_loss: 0.3320 - val_accuracy: 0.8832\n",
      "Epoch 57/100\n",
      "1875/1875 [==============================] - 4s 2ms/step - loss: 0.2328 - accuracy: 0.9149 - val_loss: 0.3313 - val_accuracy: 0.8833\n",
      "Epoch 58/100\n",
      "1875/1875 [==============================] - 4s 2ms/step - loss: 0.2269 - accuracy: 0.9188 - val_loss: 0.3293 - val_accuracy: 0.8841\n",
      "Epoch 59/100\n",
      "1875/1875 [==============================] - 4s 2ms/step - loss: 0.2260 - accuracy: 0.9183 - val_loss: 0.3298 - val_accuracy: 0.8845\n",
      "Epoch 60/100\n",
      "1875/1875 [==============================] - 4s 2ms/step - loss: 0.2215 - accuracy: 0.9210 - val_loss: 0.3304 - val_accuracy: 0.8839\n",
      "Epoch 61/100\n",
      "1875/1875 [==============================] - 4s 2ms/step - loss: 0.2207 - accuracy: 0.9201 - val_loss: 0.3315 - val_accuracy: 0.8843\n",
      "Epoch 62/100\n",
      "1875/1875 [==============================] - 4s 2ms/step - loss: 0.2196 - accuracy: 0.9210 - val_loss: 0.3279 - val_accuracy: 0.8860\n",
      "Epoch 63/100\n",
      "1875/1875 [==============================] - 4s 2ms/step - loss: 0.2178 - accuracy: 0.9211 - val_loss: 0.3302 - val_accuracy: 0.8841\n",
      "Epoch 64/100\n",
      "1875/1875 [==============================] - 4s 2ms/step - loss: 0.2149 - accuracy: 0.9226 - val_loss: 0.3311 - val_accuracy: 0.8839\n",
      "Epoch 65/100\n",
      "1875/1875 [==============================] - 4s 2ms/step - loss: 0.2155 - accuracy: 0.9227 - val_loss: 0.3312 - val_accuracy: 0.8850\n",
      "Epoch 66/100\n",
      "1875/1875 [==============================] - 4s 2ms/step - loss: 0.2119 - accuracy: 0.9238 - val_loss: 0.3310 - val_accuracy: 0.8846\n",
      "Epoch 67/100\n",
      "1875/1875 [==============================] - 4s 2ms/step - loss: 0.2115 - accuracy: 0.9245 - val_loss: 0.3321 - val_accuracy: 0.8841\n",
      "Epoch 68/100\n",
      "1875/1875 [==============================] - 4s 2ms/step - loss: 0.2081 - accuracy: 0.9240 - val_loss: 0.3328 - val_accuracy: 0.8840\n",
      "Epoch 69/100\n",
      "1875/1875 [==============================] - 4s 2ms/step - loss: 0.2061 - accuracy: 0.9255 - val_loss: 0.3303 - val_accuracy: 0.8864\n",
      "Epoch 70/100\n",
      "1875/1875 [==============================] - 4s 2ms/step - loss: 0.2049 - accuracy: 0.9262 - val_loss: 0.3312 - val_accuracy: 0.8837\n",
      "Epoch 71/100\n",
      "1875/1875 [==============================] - 4s 2ms/step - loss: 0.2041 - accuracy: 0.9268 - val_loss: 0.3323 - val_accuracy: 0.8854\n",
      "Epoch 72/100\n",
      "1875/1875 [==============================] - 4s 2ms/step - loss: 0.2013 - accuracy: 0.9280 - val_loss: 0.3315 - val_accuracy: 0.8856\n",
      "Epoch 73/100\n",
      "1875/1875 [==============================] - 4s 2ms/step - loss: 0.1999 - accuracy: 0.9287 - val_loss: 0.3334 - val_accuracy: 0.8846\n",
      "Epoch 74/100\n",
      "1875/1875 [==============================] - 4s 2ms/step - loss: 0.1993 - accuracy: 0.9280 - val_loss: 0.3334 - val_accuracy: 0.8853\n",
      "Epoch 75/100\n",
      "1875/1875 [==============================] - 4s 2ms/step - loss: 0.1971 - accuracy: 0.9290 - val_loss: 0.3337 - val_accuracy: 0.8849\n",
      "Epoch 76/100\n",
      "1875/1875 [==============================] - 4s 2ms/step - loss: 0.1954 - accuracy: 0.9304 - val_loss: 0.3349 - val_accuracy: 0.8854\n",
      "Epoch 77/100\n",
      "1875/1875 [==============================] - 4s 2ms/step - loss: 0.1950 - accuracy: 0.9303 - val_loss: 0.3322 - val_accuracy: 0.8847\n",
      "Epoch 78/100\n",
      "1875/1875 [==============================] - 4s 2ms/step - loss: 0.1925 - accuracy: 0.9305 - val_loss: 0.3307 - val_accuracy: 0.8853\n",
      "Epoch 79/100\n",
      "1875/1875 [==============================] - 4s 2ms/step - loss: 0.1918 - accuracy: 0.9318 - val_loss: 0.3332 - val_accuracy: 0.8862\n",
      "Epoch 80/100\n",
      "1875/1875 [==============================] - 4s 2ms/step - loss: 0.1920 - accuracy: 0.9315 - val_loss: 0.3328 - val_accuracy: 0.8871\n",
      "Epoch 81/100\n",
      "1875/1875 [==============================] - 4s 2ms/step - loss: 0.1865 - accuracy: 0.9348 - val_loss: 0.3349 - val_accuracy: 0.8853\n",
      "Epoch 82/100\n",
      "1875/1875 [==============================] - 4s 2ms/step - loss: 0.1862 - accuracy: 0.9331 - val_loss: 0.3322 - val_accuracy: 0.8857\n",
      "Epoch 83/100\n",
      "1875/1875 [==============================] - 4s 2ms/step - loss: 0.1853 - accuracy: 0.9333 - val_loss: 0.3339 - val_accuracy: 0.8843\n",
      "Epoch 84/100\n",
      "1875/1875 [==============================] - 4s 2ms/step - loss: 0.1823 - accuracy: 0.9352 - val_loss: 0.3340 - val_accuracy: 0.8867\n",
      "Epoch 85/100\n",
      "1875/1875 [==============================] - 4s 2ms/step - loss: 0.1820 - accuracy: 0.9354 - val_loss: 0.3329 - val_accuracy: 0.8863\n",
      "Epoch 86/100\n",
      "1875/1875 [==============================] - 4s 2ms/step - loss: 0.1822 - accuracy: 0.9355 - val_loss: 0.3342 - val_accuracy: 0.8865\n",
      "Epoch 87/100\n",
      "1875/1875 [==============================] - 4s 2ms/step - loss: 0.1803 - accuracy: 0.9354 - val_loss: 0.3323 - val_accuracy: 0.8863\n",
      "Epoch 88/100\n",
      "1875/1875 [==============================] - 4s 2ms/step - loss: 0.1782 - accuracy: 0.9358 - val_loss: 0.3369 - val_accuracy: 0.8868\n",
      "Epoch 89/100\n",
      "1875/1875 [==============================] - 4s 2ms/step - loss: 0.1771 - accuracy: 0.9369 - val_loss: 0.3341 - val_accuracy: 0.8867\n",
      "Epoch 90/100\n",
      "1875/1875 [==============================] - 4s 2ms/step - loss: 0.1777 - accuracy: 0.9356 - val_loss: 0.3344 - val_accuracy: 0.8874\n",
      "Epoch 91/100\n",
      "1875/1875 [==============================] - 4s 2ms/step - loss: 0.1724 - accuracy: 0.9388 - val_loss: 0.3361 - val_accuracy: 0.8867\n",
      "Epoch 92/100\n",
      "1875/1875 [==============================] - 4s 2ms/step - loss: 0.1709 - accuracy: 0.9384 - val_loss: 0.3349 - val_accuracy: 0.8878\n",
      "Epoch 93/100\n",
      "1875/1875 [==============================] - 4s 2ms/step - loss: 0.1683 - accuracy: 0.9413 - val_loss: 0.3410 - val_accuracy: 0.8868\n",
      "Epoch 94/100\n",
      "1875/1875 [==============================] - 4s 2ms/step - loss: 0.1710 - accuracy: 0.9398 - val_loss: 0.3373 - val_accuracy: 0.8881\n",
      "Epoch 95/100\n",
      "1875/1875 [==============================] - 4s 2ms/step - loss: 0.1669 - accuracy: 0.9406 - val_loss: 0.3368 - val_accuracy: 0.8865\n",
      "Epoch 96/100\n",
      "1875/1875 [==============================] - 4s 2ms/step - loss: 0.1676 - accuracy: 0.9406 - val_loss: 0.3378 - val_accuracy: 0.8872\n",
      "Epoch 97/100\n",
      "1875/1875 [==============================] - 4s 2ms/step - loss: 0.1650 - accuracy: 0.9411 - val_loss: 0.3381 - val_accuracy: 0.8882\n",
      "Epoch 98/100\n",
      "1875/1875 [==============================] - 4s 2ms/step - loss: 0.1650 - accuracy: 0.9405 - val_loss: 0.3395 - val_accuracy: 0.8886\n",
      "Epoch 99/100\n",
      "1875/1875 [==============================] - 4s 2ms/step - loss: 0.1643 - accuracy: 0.9417 - val_loss: 0.3426 - val_accuracy: 0.8870\n",
      "Epoch 100/100\n",
      "1875/1875 [==============================] - 4s 2ms/step - loss: 0.1607 - accuracy: 0.9434 - val_loss: 0.3405 - val_accuracy: 0.8883\n"
     ]
    }
   ],
   "source": [
    "mdl.compile(loss=\"sparse_categorical_crossentropy\", optimizer=keras.optimizers.SGD(learning_rate=1e-3),\n",
    " metrics=[\"accuracy\"])\n",
    "\n",
    "model = mdl.fit(xtrain, ytrain, epochs=100, validation_data=(xtest, ytest));"
   ]
  },
  {
   "cell_type": "code",
   "execution_count": 30,
   "id": "7e5710c9-86d8-440a-ae08-039ac79d30b1",
   "metadata": {
    "tags": []
   },
   "outputs": [
    {
     "data": {
      "image/png": "[encoded data removed]",
      "text/plain": [
       "<Figure size 800x700 with 1 Axes>"
      ]
     },
     "metadata": {},
     "output_type": "display_data"
    }
   ],
   "source": [
    "pd.DataFrame(model.history).plot(figsize=(8, 7))\n",
    "plt.grid(True)\n",
    "plt.show()"
   ]
  },
  {
   "cell_type": "markdown",
   "id": "5f0cf15d-ea7f-4c7e-9c60-35e314dc7d38",
   "metadata": {
    "tags": []
   },
   "source": [
    "# 9"
   ]
  },
  {
   "cell_type": "markdown",
   "id": "37d197a2-e181-4d31-b4f5-6075ea02ae95",
   "metadata": {},
   "source": [
    "Sans normalisation : loss: 0.3232 - accuracy: 0.8862 - val_loss: 0.3771 - val_accuracy: 0.8666\n",
    "\n",
    "Avec normalisation : loss: 0.1607 - accuracy: 0.9434 - val_loss: 0.3405 - val_accuracy: 0.8883"
   ]
  },
  {
   "cell_type": "markdown",
   "id": "3644869b-4c9e-4855-80ae-6045077a1d7f",
   "metadata": {},
   "source": [
    "# 10"
   ]
  },
  {
   "cell_type": "code",
   "execution_count": 27,
   "id": "3fd202b2-c6a4-41a7-a40a-859fd4778aae",
   "metadata": {
    "tags": []
   },
   "outputs": [
    {
     "name": "stdout",
     "output_type": "stream",
     "text": [
      "313/313 [==============================] - 0s 1ms/step\n"
     ]
    },
    {
     "ename": "ValueError",
     "evalue": "Classification metrics can't handle a mix of multiclass and continuous-multioutput targets",
     "output_type": "error",
     "traceback": [
      "\u001b[1;31m---------------------------------------------------------------------------\u001b[0m",
      "\u001b[1;31mValueError\u001b[0m                                Traceback (most recent call last)",
      "Cell \u001b[1;32mIn[27], line 4\u001b[0m\n\u001b[0;32m      1\u001b[0m ypred \u001b[38;5;241m=\u001b[39m mdl\u001b[38;5;241m.\u001b[39mpredict(xtest)\n\u001b[1;32m----> 4\u001b[0m confusion \u001b[38;5;241m=\u001b[39m confusion_matrix(ytest, ypred)\n\u001b[0;32m      5\u001b[0m \u001b[38;5;28mprint\u001b[39m(\u001b[38;5;124m\"\u001b[39m\u001b[38;5;124mMatrice de confusion :\u001b[39m\u001b[38;5;130;01m\\n\u001b[39;00m\u001b[38;5;124m\"\u001b[39m, confusion)\n",
      "File \u001b[1;32mC:\\ProgramData\\anaconda3\\Lib\\site-packages\\sklearn\\utils\\_param_validation.py:211\u001b[0m, in \u001b[0;36mvalidate_params.<locals>.decorator.<locals>.wrapper\u001b[1;34m(*args, **kwargs)\u001b[0m\n\u001b[0;32m    205\u001b[0m \u001b[38;5;28;01mtry\u001b[39;00m:\n\u001b[0;32m    206\u001b[0m     \u001b[38;5;28;01mwith\u001b[39;00m config_context(\n\u001b[0;32m    207\u001b[0m         skip_parameter_validation\u001b[38;5;241m=\u001b[39m(\n\u001b[0;32m    208\u001b[0m             prefer_skip_nested_validation \u001b[38;5;129;01mor\u001b[39;00m global_skip_validation\n\u001b[0;32m    209\u001b[0m         )\n\u001b[0;32m    210\u001b[0m     ):\n\u001b[1;32m--> 211\u001b[0m         \u001b[38;5;28;01mreturn\u001b[39;00m func(\u001b[38;5;241m*\u001b[39margs, \u001b[38;5;241m*\u001b[39m\u001b[38;5;241m*\u001b[39mkwargs)\n\u001b[0;32m    212\u001b[0m \u001b[38;5;28;01mexcept\u001b[39;00m InvalidParameterError \u001b[38;5;28;01mas\u001b[39;00m e:\n\u001b[0;32m    213\u001b[0m     \u001b[38;5;66;03m# When the function is just a wrapper around an estimator, we allow\u001b[39;00m\n\u001b[0;32m    214\u001b[0m     \u001b[38;5;66;03m# the function to delegate validation to the estimator, but we replace\u001b[39;00m\n\u001b[0;32m    215\u001b[0m     \u001b[38;5;66;03m# the name of the estimator by the name of the function in the error\u001b[39;00m\n\u001b[0;32m    216\u001b[0m     \u001b[38;5;66;03m# message to avoid confusion.\u001b[39;00m\n\u001b[0;32m    217\u001b[0m     msg \u001b[38;5;241m=\u001b[39m re\u001b[38;5;241m.\u001b[39msub(\n\u001b[0;32m    218\u001b[0m         \u001b[38;5;124mr\u001b[39m\u001b[38;5;124m\"\u001b[39m\u001b[38;5;124mparameter of \u001b[39m\u001b[38;5;124m\\\u001b[39m\u001b[38;5;124mw+ must be\u001b[39m\u001b[38;5;124m\"\u001b[39m,\n\u001b[0;32m    219\u001b[0m         \u001b[38;5;124mf\u001b[39m\u001b[38;5;124m\"\u001b[39m\u001b[38;5;124mparameter of \u001b[39m\u001b[38;5;132;01m{\u001b[39;00mfunc\u001b[38;5;241m.\u001b[39m\u001b[38;5;18m__qualname__\u001b[39m\u001b[38;5;132;01m}\u001b[39;00m\u001b[38;5;124m must be\u001b[39m\u001b[38;5;124m\"\u001b[39m,\n\u001b[0;32m    220\u001b[0m         \u001b[38;5;28mstr\u001b[39m(e),\n\u001b[0;32m    221\u001b[0m     )\n",
      "File \u001b[1;32mC:\\ProgramData\\anaconda3\\Lib\\site-packages\\sklearn\\metrics\\_classification.py:326\u001b[0m, in \u001b[0;36mconfusion_matrix\u001b[1;34m(y_true, y_pred, labels, sample_weight, normalize)\u001b[0m\n\u001b[0;32m    231\u001b[0m \u001b[38;5;129m@validate_params\u001b[39m(\n\u001b[0;32m    232\u001b[0m     {\n\u001b[0;32m    233\u001b[0m         \u001b[38;5;124m\"\u001b[39m\u001b[38;5;124my_true\u001b[39m\u001b[38;5;124m\"\u001b[39m: [\u001b[38;5;124m\"\u001b[39m\u001b[38;5;124marray-like\u001b[39m\u001b[38;5;124m\"\u001b[39m],\n\u001b[1;32m   (...)\u001b[0m\n\u001b[0;32m    242\u001b[0m     y_true, y_pred, \u001b[38;5;241m*\u001b[39m, labels\u001b[38;5;241m=\u001b[39m\u001b[38;5;28;01mNone\u001b[39;00m, sample_weight\u001b[38;5;241m=\u001b[39m\u001b[38;5;28;01mNone\u001b[39;00m, normalize\u001b[38;5;241m=\u001b[39m\u001b[38;5;28;01mNone\u001b[39;00m\n\u001b[0;32m    243\u001b[0m ):\n\u001b[0;32m    244\u001b[0m \u001b[38;5;250m    \u001b[39m\u001b[38;5;124;03m\"\"\"Compute confusion matrix to evaluate the accuracy of a classification.\u001b[39;00m\n\u001b[0;32m    245\u001b[0m \n\u001b[0;32m    246\u001b[0m \u001b[38;5;124;03m    By definition a confusion matrix :math:`C` is such that :math:`C_{i, j}`\u001b[39;00m\n\u001b[1;32m   (...)\u001b[0m\n\u001b[0;32m    324\u001b[0m \u001b[38;5;124;03m    (0, 2, 1, 1)\u001b[39;00m\n\u001b[0;32m    325\u001b[0m \u001b[38;5;124;03m    \"\"\"\u001b[39;00m\n\u001b[1;32m--> 326\u001b[0m     y_type, y_true, y_pred \u001b[38;5;241m=\u001b[39m _check_targets(y_true, y_pred)\n\u001b[0;32m    327\u001b[0m     \u001b[38;5;28;01mif\u001b[39;00m y_type \u001b[38;5;129;01mnot\u001b[39;00m \u001b[38;5;129;01min\u001b[39;00m (\u001b[38;5;124m\"\u001b[39m\u001b[38;5;124mbinary\u001b[39m\u001b[38;5;124m\"\u001b[39m, \u001b[38;5;124m\"\u001b[39m\u001b[38;5;124mmulticlass\u001b[39m\u001b[38;5;124m\"\u001b[39m):\n\u001b[0;32m    328\u001b[0m         \u001b[38;5;28;01mraise\u001b[39;00m \u001b[38;5;167;01mValueError\u001b[39;00m(\u001b[38;5;124m\"\u001b[39m\u001b[38;5;132;01m%s\u001b[39;00m\u001b[38;5;124m is not supported\u001b[39m\u001b[38;5;124m\"\u001b[39m \u001b[38;5;241m%\u001b[39m y_type)\n",
      "File \u001b[1;32mC:\\ProgramData\\anaconda3\\Lib\\site-packages\\sklearn\\metrics\\_classification.py:93\u001b[0m, in \u001b[0;36m_check_targets\u001b[1;34m(y_true, y_pred)\u001b[0m\n\u001b[0;32m     90\u001b[0m     y_type \u001b[38;5;241m=\u001b[39m {\u001b[38;5;124m\"\u001b[39m\u001b[38;5;124mmulticlass\u001b[39m\u001b[38;5;124m\"\u001b[39m}\n\u001b[0;32m     92\u001b[0m \u001b[38;5;28;01mif\u001b[39;00m \u001b[38;5;28mlen\u001b[39m(y_type) \u001b[38;5;241m>\u001b[39m \u001b[38;5;241m1\u001b[39m:\n\u001b[1;32m---> 93\u001b[0m     \u001b[38;5;28;01mraise\u001b[39;00m \u001b[38;5;167;01mValueError\u001b[39;00m(\n\u001b[0;32m     94\u001b[0m         \u001b[38;5;124m\"\u001b[39m\u001b[38;5;124mClassification metrics can\u001b[39m\u001b[38;5;124m'\u001b[39m\u001b[38;5;124mt handle a mix of \u001b[39m\u001b[38;5;132;01m{0}\u001b[39;00m\u001b[38;5;124m and \u001b[39m\u001b[38;5;132;01m{1}\u001b[39;00m\u001b[38;5;124m targets\u001b[39m\u001b[38;5;124m\"\u001b[39m\u001b[38;5;241m.\u001b[39mformat(\n\u001b[0;32m     95\u001b[0m             type_true, type_pred\n\u001b[0;32m     96\u001b[0m         )\n\u001b[0;32m     97\u001b[0m     )\n\u001b[0;32m     99\u001b[0m \u001b[38;5;66;03m# We can't have more than one value on y_type => The set is no more needed\u001b[39;00m\n\u001b[0;32m    100\u001b[0m y_type \u001b[38;5;241m=\u001b[39m y_type\u001b[38;5;241m.\u001b[39mpop()\n",
      "\u001b[1;31mValueError\u001b[0m: Classification metrics can't handle a mix of multiclass and continuous-multioutput targets"
     ]
    }
   ],
   "source": [
    "ypred = mdl.predict(xtest)\n",
    "\n",
    "\n",
    "confusion = confusion_matrix(ytest, ypred)\n",
    "print(\"Matrice de confusion :\\n\", confusion)"
   ]
  },
  {
   "cell_type": "markdown",
   "id": "d4143fa0-b2ef-4315-802c-73f01c410614",
   "metadata": {},
   "source": [
    "# 11"
   ]
  },
  {
   "cell_type": "code",
   "execution_count": 29,
   "id": "9208e97d-351d-49ca-ab48-a2358714007d",
   "metadata": {
    "tags": []
   },
   "outputs": [],
   "source": [
    "xvalid, xtrain = xtrain[:5000], xtrain[5000:]\n",
    "yvalid, ytrain = ytrain[:5000], ytrain[5000:]"
   ]
  },
  {
   "cell_type": "code",
   "execution_count": 31,
   "id": "ee75938f-ddb5-4595-89d5-53130934408e",
   "metadata": {
    "tags": []
   },
   "outputs": [],
   "source": [
    "def split_dataset(x, y):\n",
    "    y5or6 = (y == 5) | (y == 6)\n",
    "    yA = y[~y5or6]\n",
    "    yA[yA > 6] -= 2\n",
    "    yB = (y[y5or6] == 6).astype(np.float32)\n",
    "    return ((x[~y5or6], yA),(x[y5or6], yB))\n",
    "\n",
    "(xtrain_A, ytrain_A), (xtrain_B, ytrain_B) = split_dataset(xtrain, ytrain)\n",
    "(xvalid_A, yvalid_A), (xvalid_B, yvalid_B) = split_dataset(xvalid, yvalid)\n",
    "(xtest_A, ytest_A), (xtest_B, ytest_B) = split_dataset(xtest, ytest)\n",
    "xtrain_B = xtrain_B[:200]\n",
    "ytrain_B = ytrain_B[:200]\n"
   ]
  },
  {
   "cell_type": "code",
   "execution_count": 32,
   "id": "c2f339a5-4fd1-4909-9920-19dd17ad28b1",
   "metadata": {
    "tags": []
   },
   "outputs": [],
   "source": [
    "mdl_A = keras.models.Sequential()\n",
    "mdl_A.add(keras.layers.Flatten(input_shape=[28, 28]))\n",
    "for n_hidden in (300, 100, 50, 50, 50):\n",
    "    mdl_A.add(keras.layers.Dense(n_hidden, activation=\"selu\"))\n",
    "mdl_A.add(keras.layers.Dense(8, activation=\"softmax\"))\n"
   ]
  },
  {
   "cell_type": "code",
   "execution_count": 33,
   "id": "4e0a0ab0-7e82-42ae-bcf8-bc4d81fc3516",
   "metadata": {
    "tags": []
   },
   "outputs": [],
   "source": [
    "mdl_A.compile(loss=\"sparse_categorical_crossentropy\",optimizer=keras.optimizers.SGD(learning_rate=1e-3),\n",
    " metrics=[\"accuracy\"])"
   ]
  },
  {
   "cell_type": "code",
   "execution_count": 35,
   "id": "864acbe7-bf89-4ff9-91ef-adce0429e0b5",
   "metadata": {
    "tags": []
   },
   "outputs": [
    {
     "name": "stdout",
     "output_type": "stream",
     "text": [
      "Epoch 1/100\n",
      "1375/1375 [==============================] - 3s 2ms/step - loss: 0.1261 - accuracy: 0.9564 - val_loss: 0.1132 - val_accuracy: 0.9584\n",
      "Epoch 2/100\n",
      "1375/1375 [==============================] - 3s 2ms/step - loss: 0.1213 - accuracy: 0.9581 - val_loss: 0.1117 - val_accuracy: 0.9606\n",
      "Epoch 3/100\n",
      "1375/1375 [==============================] - 3s 2ms/step - loss: 0.1187 - accuracy: 0.9586 - val_loss: 0.1122 - val_accuracy: 0.9609\n",
      "Epoch 4/100\n",
      "1375/1375 [==============================] - 3s 2ms/step - loss: 0.1168 - accuracy: 0.9596 - val_loss: 0.1109 - val_accuracy: 0.9601\n",
      "Epoch 5/100\n",
      "1375/1375 [==============================] - 3s 2ms/step - loss: 0.1128 - accuracy: 0.9614 - val_loss: 0.1105 - val_accuracy: 0.9594\n",
      "Epoch 6/100\n",
      "1375/1375 [==============================] - 3s 2ms/step - loss: 0.1103 - accuracy: 0.9622 - val_loss: 0.1089 - val_accuracy: 0.9606\n",
      "Epoch 7/100\n",
      "1375/1375 [==============================] - 3s 2ms/step - loss: 0.1091 - accuracy: 0.9616 - val_loss: 0.1083 - val_accuracy: 0.9611\n",
      "Epoch 8/100\n",
      "1375/1375 [==============================] - 3s 2ms/step - loss: 0.1067 - accuracy: 0.9625 - val_loss: 0.1068 - val_accuracy: 0.9631\n",
      "Epoch 9/100\n",
      "1375/1375 [==============================] - 3s 2ms/step - loss: 0.1035 - accuracy: 0.9636 - val_loss: 0.1083 - val_accuracy: 0.9606\n",
      "Epoch 10/100\n",
      "1375/1375 [==============================] - 3s 2ms/step - loss: 0.1021 - accuracy: 0.9651 - val_loss: 0.1062 - val_accuracy: 0.9611\n",
      "Epoch 11/100\n",
      "1375/1375 [==============================] - 3s 2ms/step - loss: 0.1021 - accuracy: 0.9655 - val_loss: 0.1090 - val_accuracy: 0.9604\n",
      "Epoch 12/100\n",
      "1375/1375 [==============================] - 3s 2ms/step - loss: 0.1010 - accuracy: 0.9650 - val_loss: 0.1074 - val_accuracy: 0.9624\n",
      "Epoch 13/100\n",
      "1375/1375 [==============================] - 3s 2ms/step - loss: 0.0989 - accuracy: 0.9661 - val_loss: 0.1068 - val_accuracy: 0.9601\n",
      "Epoch 14/100\n",
      "1375/1375 [==============================] - 3s 2ms/step - loss: 0.0975 - accuracy: 0.9660 - val_loss: 0.1069 - val_accuracy: 0.9609\n",
      "Epoch 15/100\n",
      "1375/1375 [==============================] - 3s 2ms/step - loss: 0.0944 - accuracy: 0.9679 - val_loss: 0.1094 - val_accuracy: 0.9601\n",
      "Epoch 16/100\n",
      "1375/1375 [==============================] - 3s 2ms/step - loss: 0.0945 - accuracy: 0.9682 - val_loss: 0.1066 - val_accuracy: 0.9596\n",
      "Epoch 17/100\n",
      "1375/1375 [==============================] - 3s 2ms/step - loss: 0.0937 - accuracy: 0.9677 - val_loss: 0.1068 - val_accuracy: 0.9604\n",
      "Epoch 18/100\n",
      "1375/1375 [==============================] - 3s 2ms/step - loss: 0.0921 - accuracy: 0.9678 - val_loss: 0.1096 - val_accuracy: 0.9591\n",
      "Epoch 19/100\n",
      "1375/1375 [==============================] - 3s 2ms/step - loss: 0.0920 - accuracy: 0.9681 - val_loss: 0.1083 - val_accuracy: 0.9604\n",
      "Epoch 20/100\n",
      "1375/1375 [==============================] - 3s 2ms/step - loss: 0.0918 - accuracy: 0.9679 - val_loss: 0.1076 - val_accuracy: 0.9611\n",
      "Epoch 21/100\n",
      "1375/1375 [==============================] - 3s 2ms/step - loss: 0.0896 - accuracy: 0.9683 - val_loss: 0.1092 - val_accuracy: 0.9601\n",
      "Epoch 22/100\n",
      "1375/1375 [==============================] - 3s 2ms/step - loss: 0.0885 - accuracy: 0.9699 - val_loss: 0.1080 - val_accuracy: 0.9594\n",
      "Epoch 23/100\n",
      "1375/1375 [==============================] - 3s 2ms/step - loss: 0.0845 - accuracy: 0.9708 - val_loss: 0.1089 - val_accuracy: 0.9584\n",
      "Epoch 24/100\n",
      "1375/1375 [==============================] - 3s 2ms/step - loss: 0.0860 - accuracy: 0.9710 - val_loss: 0.1085 - val_accuracy: 0.9609\n",
      "Epoch 25/100\n",
      "1375/1375 [==============================] - 3s 2ms/step - loss: 0.0834 - accuracy: 0.9708 - val_loss: 0.1072 - val_accuracy: 0.9596\n",
      "Epoch 26/100\n",
      "1375/1375 [==============================] - 3s 2ms/step - loss: 0.0827 - accuracy: 0.9726 - val_loss: 0.1097 - val_accuracy: 0.9599\n",
      "Epoch 27/100\n",
      "1375/1375 [==============================] - 3s 2ms/step - loss: 0.0825 - accuracy: 0.9718 - val_loss: 0.1074 - val_accuracy: 0.9586\n",
      "Epoch 28/100\n",
      "1375/1375 [==============================] - 3s 2ms/step - loss: 0.0823 - accuracy: 0.9720 - val_loss: 0.1095 - val_accuracy: 0.9589\n",
      "Epoch 29/100\n",
      "1375/1375 [==============================] - 3s 2ms/step - loss: 0.0815 - accuracy: 0.9725 - val_loss: 0.1129 - val_accuracy: 0.9581\n",
      "Epoch 30/100\n",
      "1375/1375 [==============================] - 3s 2ms/step - loss: 0.0824 - accuracy: 0.9721 - val_loss: 0.1128 - val_accuracy: 0.9594\n",
      "Epoch 31/100\n",
      "1375/1375 [==============================] - 3s 2ms/step - loss: 0.0806 - accuracy: 0.9721 - val_loss: 0.1151 - val_accuracy: 0.9569\n",
      "Epoch 32/100\n",
      "1375/1375 [==============================] - 3s 2ms/step - loss: 0.0781 - accuracy: 0.9738 - val_loss: 0.1095 - val_accuracy: 0.9596\n",
      "Epoch 33/100\n",
      "1375/1375 [==============================] - 3s 2ms/step - loss: 0.0776 - accuracy: 0.9734 - val_loss: 0.1121 - val_accuracy: 0.9599\n",
      "Epoch 34/100\n",
      "1375/1375 [==============================] - 3s 2ms/step - loss: 0.0769 - accuracy: 0.9738 - val_loss: 0.1093 - val_accuracy: 0.9601\n",
      "Epoch 35/100\n",
      "1375/1375 [==============================] - 3s 2ms/step - loss: 0.0777 - accuracy: 0.9734 - val_loss: 0.1112 - val_accuracy: 0.9586\n",
      "Epoch 36/100\n",
      "1375/1375 [==============================] - 3s 2ms/step - loss: 0.0741 - accuracy: 0.9746 - val_loss: 0.1135 - val_accuracy: 0.9579\n",
      "Epoch 37/100\n",
      "1375/1375 [==============================] - 3s 2ms/step - loss: 0.0740 - accuracy: 0.9749 - val_loss: 0.1103 - val_accuracy: 0.9586\n",
      "Epoch 38/100\n",
      "1375/1375 [==============================] - 3s 2ms/step - loss: 0.0749 - accuracy: 0.9752 - val_loss: 0.1121 - val_accuracy: 0.9601\n",
      "Epoch 39/100\n",
      "1375/1375 [==============================] - 3s 2ms/step - loss: 0.0727 - accuracy: 0.9750 - val_loss: 0.1130 - val_accuracy: 0.9586\n",
      "Epoch 40/100\n",
      "1375/1375 [==============================] - 3s 2ms/step - loss: 0.0724 - accuracy: 0.9756 - val_loss: 0.1121 - val_accuracy: 0.9596\n",
      "Epoch 41/100\n",
      "1375/1375 [==============================] - 3s 2ms/step - loss: 0.0716 - accuracy: 0.9756 - val_loss: 0.1138 - val_accuracy: 0.9606\n",
      "Epoch 42/100\n",
      "1375/1375 [==============================] - 3s 2ms/step - loss: 0.0690 - accuracy: 0.9771 - val_loss: 0.1117 - val_accuracy: 0.9581\n",
      "Epoch 43/100\n",
      "1375/1375 [==============================] - 3s 2ms/step - loss: 0.0717 - accuracy: 0.9750 - val_loss: 0.1131 - val_accuracy: 0.9596\n",
      "Epoch 44/100\n",
      "1375/1375 [==============================] - 3s 2ms/step - loss: 0.0690 - accuracy: 0.9762 - val_loss: 0.1137 - val_accuracy: 0.9589\n",
      "Epoch 45/100\n",
      "1375/1375 [==============================] - 3s 2ms/step - loss: 0.0672 - accuracy: 0.9774 - val_loss: 0.1136 - val_accuracy: 0.9584\n",
      "Epoch 46/100\n",
      "1375/1375 [==============================] - 3s 2ms/step - loss: 0.0678 - accuracy: 0.9765 - val_loss: 0.1103 - val_accuracy: 0.9599\n",
      "Epoch 47/100\n",
      "1375/1375 [==============================] - 3s 2ms/step - loss: 0.0679 - accuracy: 0.9768 - val_loss: 0.1125 - val_accuracy: 0.9584\n",
      "Epoch 48/100\n",
      "1375/1375 [==============================] - 3s 2ms/step - loss: 0.0684 - accuracy: 0.9764 - val_loss: 0.1124 - val_accuracy: 0.9591\n",
      "Epoch 49/100\n",
      "1375/1375 [==============================] - 3s 2ms/step - loss: 0.0670 - accuracy: 0.9772 - val_loss: 0.1125 - val_accuracy: 0.9596\n",
      "Epoch 50/100\n",
      "1375/1375 [==============================] - 3s 2ms/step - loss: 0.0660 - accuracy: 0.9779 - val_loss: 0.1145 - val_accuracy: 0.9584\n",
      "Epoch 51/100\n",
      "1375/1375 [==============================] - 3s 2ms/step - loss: 0.0638 - accuracy: 0.9790 - val_loss: 0.1134 - val_accuracy: 0.9609\n",
      "Epoch 52/100\n",
      "1375/1375 [==============================] - 3s 2ms/step - loss: 0.0638 - accuracy: 0.9791 - val_loss: 0.1141 - val_accuracy: 0.9589\n",
      "Epoch 53/100\n",
      "1375/1375 [==============================] - 3s 2ms/step - loss: 0.0636 - accuracy: 0.9787 - val_loss: 0.1168 - val_accuracy: 0.9571\n",
      "Epoch 54/100\n",
      "1375/1375 [==============================] - 3s 2ms/step - loss: 0.0603 - accuracy: 0.9801 - val_loss: 0.1140 - val_accuracy: 0.9586\n",
      "Epoch 55/100\n",
      "1375/1375 [==============================] - 3s 2ms/step - loss: 0.0614 - accuracy: 0.9795 - val_loss: 0.1135 - val_accuracy: 0.9591\n",
      "Epoch 56/100\n",
      "1375/1375 [==============================] - 3s 2ms/step - loss: 0.0613 - accuracy: 0.9797 - val_loss: 0.1140 - val_accuracy: 0.9579\n",
      "Epoch 57/100\n",
      "1375/1375 [==============================] - 3s 2ms/step - loss: 0.0611 - accuracy: 0.9793 - val_loss: 0.1134 - val_accuracy: 0.9581\n",
      "Epoch 58/100\n",
      "1375/1375 [==============================] - 3s 2ms/step - loss: 0.0602 - accuracy: 0.9805 - val_loss: 0.1149 - val_accuracy: 0.9586\n",
      "Epoch 59/100\n",
      "1375/1375 [==============================] - 3s 2ms/step - loss: 0.0605 - accuracy: 0.9788 - val_loss: 0.1190 - val_accuracy: 0.9576\n",
      "Epoch 60/100\n",
      "1375/1375 [==============================] - 3s 2ms/step - loss: 0.0600 - accuracy: 0.9801 - val_loss: 0.1179 - val_accuracy: 0.9569\n",
      "Epoch 61/100\n",
      "1375/1375 [==============================] - 3s 2ms/step - loss: 0.0577 - accuracy: 0.9808 - val_loss: 0.1196 - val_accuracy: 0.9576\n",
      "Epoch 62/100\n",
      "1375/1375 [==============================] - 3s 2ms/step - loss: 0.0587 - accuracy: 0.9809 - val_loss: 0.1162 - val_accuracy: 0.9586\n",
      "Epoch 63/100\n",
      "1375/1375 [==============================] - 3s 2ms/step - loss: 0.0584 - accuracy: 0.9810 - val_loss: 0.1191 - val_accuracy: 0.9579\n",
      "Epoch 64/100\n",
      "1375/1375 [==============================] - 3s 2ms/step - loss: 0.0573 - accuracy: 0.9814 - val_loss: 0.1193 - val_accuracy: 0.9579\n",
      "Epoch 65/100\n",
      "1375/1375 [==============================] - 3s 2ms/step - loss: 0.0571 - accuracy: 0.9814 - val_loss: 0.1150 - val_accuracy: 0.9584\n",
      "Epoch 66/100\n",
      "1375/1375 [==============================] - 3s 2ms/step - loss: 0.0552 - accuracy: 0.9818 - val_loss: 0.1172 - val_accuracy: 0.9584\n",
      "Epoch 67/100\n",
      "1375/1375 [==============================] - 3s 2ms/step - loss: 0.0549 - accuracy: 0.9819 - val_loss: 0.1172 - val_accuracy: 0.9584\n",
      "Epoch 68/100\n",
      "1375/1375 [==============================] - 3s 2ms/step - loss: 0.0549 - accuracy: 0.9812 - val_loss: 0.1176 - val_accuracy: 0.9589\n",
      "Epoch 69/100\n",
      "1375/1375 [==============================] - 3s 2ms/step - loss: 0.0544 - accuracy: 0.9823 - val_loss: 0.1166 - val_accuracy: 0.9594\n",
      "Epoch 70/100\n",
      "1375/1375 [==============================] - 3s 2ms/step - loss: 0.0546 - accuracy: 0.9825 - val_loss: 0.1162 - val_accuracy: 0.9586\n",
      "Epoch 71/100\n",
      "1375/1375 [==============================] - 3s 2ms/step - loss: 0.0530 - accuracy: 0.9823 - val_loss: 0.1205 - val_accuracy: 0.9589\n",
      "Epoch 72/100\n",
      "1375/1375 [==============================] - 3s 2ms/step - loss: 0.0524 - accuracy: 0.9830 - val_loss: 0.1169 - val_accuracy: 0.9594\n",
      "Epoch 73/100\n",
      "1375/1375 [==============================] - 3s 2ms/step - loss: 0.0530 - accuracy: 0.9823 - val_loss: 0.1166 - val_accuracy: 0.9571\n",
      "Epoch 74/100\n",
      "1375/1375 [==============================] - 3s 2ms/step - loss: 0.0520 - accuracy: 0.9833 - val_loss: 0.1169 - val_accuracy: 0.9599\n",
      "Epoch 75/100\n",
      "1375/1375 [==============================] - 3s 2ms/step - loss: 0.0509 - accuracy: 0.9830 - val_loss: 0.1192 - val_accuracy: 0.9586\n",
      "Epoch 76/100\n",
      "1375/1375 [==============================] - 3s 2ms/step - loss: 0.0501 - accuracy: 0.9836 - val_loss: 0.1191 - val_accuracy: 0.9596\n",
      "Epoch 77/100\n",
      "1375/1375 [==============================] - 3s 2ms/step - loss: 0.0517 - accuracy: 0.9834 - val_loss: 0.1191 - val_accuracy: 0.9589\n",
      "Epoch 78/100\n",
      "1375/1375 [==============================] - 3s 2ms/step - loss: 0.0502 - accuracy: 0.9834 - val_loss: 0.1176 - val_accuracy: 0.9594\n",
      "Epoch 79/100\n",
      "1375/1375 [==============================] - 3s 2ms/step - loss: 0.0515 - accuracy: 0.9829 - val_loss: 0.1208 - val_accuracy: 0.9579\n",
      "Epoch 80/100\n",
      "1375/1375 [==============================] - 3s 2ms/step - loss: 0.0485 - accuracy: 0.9845 - val_loss: 0.1214 - val_accuracy: 0.9571\n",
      "Epoch 81/100\n",
      "1375/1375 [==============================] - 3s 2ms/step - loss: 0.0498 - accuracy: 0.9832 - val_loss: 0.1213 - val_accuracy: 0.9562\n",
      "Epoch 82/100\n",
      "1375/1375 [==============================] - 3s 2ms/step - loss: 0.0496 - accuracy: 0.9840 - val_loss: 0.1193 - val_accuracy: 0.9574\n",
      "Epoch 83/100\n",
      "1375/1375 [==============================] - 3s 2ms/step - loss: 0.0461 - accuracy: 0.9852 - val_loss: 0.1203 - val_accuracy: 0.9581\n",
      "Epoch 84/100\n",
      "1375/1375 [==============================] - 3s 2ms/step - loss: 0.0478 - accuracy: 0.9852 - val_loss: 0.1204 - val_accuracy: 0.9579\n",
      "Epoch 85/100\n",
      "1375/1375 [==============================] - 3s 2ms/step - loss: 0.0464 - accuracy: 0.9855 - val_loss: 0.1207 - val_accuracy: 0.9574\n",
      "Epoch 86/100\n",
      "1375/1375 [==============================] - 3s 2ms/step - loss: 0.0473 - accuracy: 0.9847 - val_loss: 0.1233 - val_accuracy: 0.9584\n",
      "Epoch 87/100\n",
      "1375/1375 [==============================] - 3s 2ms/step - loss: 0.0457 - accuracy: 0.9844 - val_loss: 0.1240 - val_accuracy: 0.9596\n",
      "Epoch 88/100\n",
      "1375/1375 [==============================] - 3s 2ms/step - loss: 0.0464 - accuracy: 0.9849 - val_loss: 0.1237 - val_accuracy: 0.9544\n",
      "Epoch 89/100\n",
      "1375/1375 [==============================] - 3s 2ms/step - loss: 0.0467 - accuracy: 0.9845 - val_loss: 0.1217 - val_accuracy: 0.9591\n",
      "Epoch 90/100\n",
      "1375/1375 [==============================] - 3s 2ms/step - loss: 0.0452 - accuracy: 0.9855 - val_loss: 0.1277 - val_accuracy: 0.9574\n",
      "Epoch 91/100\n",
      "1375/1375 [==============================] - 3s 2ms/step - loss: 0.0463 - accuracy: 0.9846 - val_loss: 0.1218 - val_accuracy: 0.9581\n",
      "Epoch 92/100\n",
      "1375/1375 [==============================] - 3s 2ms/step - loss: 0.0444 - accuracy: 0.9857 - val_loss: 0.1215 - val_accuracy: 0.9571\n",
      "Epoch 93/100\n",
      "1375/1375 [==============================] - 3s 2ms/step - loss: 0.0454 - accuracy: 0.9852 - val_loss: 0.1269 - val_accuracy: 0.9562\n",
      "Epoch 94/100\n",
      "1375/1375 [==============================] - 3s 2ms/step - loss: 0.0442 - accuracy: 0.9860 - val_loss: 0.1217 - val_accuracy: 0.9596\n",
      "Epoch 95/100\n",
      "1375/1375 [==============================] - 3s 2ms/step - loss: 0.0435 - accuracy: 0.9863 - val_loss: 0.1244 - val_accuracy: 0.9581\n",
      "Epoch 96/100\n",
      "1375/1375 [==============================] - 3s 2ms/step - loss: 0.0426 - accuracy: 0.9861 - val_loss: 0.1232 - val_accuracy: 0.9581\n",
      "Epoch 97/100\n",
      "1375/1375 [==============================] - 3s 2ms/step - loss: 0.0433 - accuracy: 0.9862 - val_loss: 0.1256 - val_accuracy: 0.9576\n",
      "Epoch 98/100\n",
      "1375/1375 [==============================] - 3s 2ms/step - loss: 0.0414 - accuracy: 0.9868 - val_loss: 0.1239 - val_accuracy: 0.9567\n",
      "Epoch 99/100\n",
      "1375/1375 [==============================] - 3s 2ms/step - loss: 0.0414 - accuracy: 0.9864 - val_loss: 0.1218 - val_accuracy: 0.9579\n",
      "Epoch 100/100\n",
      "1375/1375 [==============================] - 3s 2ms/step - loss: 0.0417 - accuracy: 0.9865 - val_loss: 0.1243 - val_accuracy: 0.9581\n"
     ]
    }
   ],
   "source": [
    "model_A = mdl.fit(xtrain_A, ytrain_A, epochs=100, validation_data=(xvalid_A, yvalid_A));"
   ]
  },
  {
   "cell_type": "code",
   "execution_count": 37,
   "id": "aa1eea65-4fbb-4cf9-a28f-bc59e0e51d2b",
   "metadata": {
    "tags": []
   },
   "outputs": [
    {
     "name": "stderr",
     "output_type": "stream",
     "text": [
      "C:\\Users\\Alexis\\AppData\\Roaming\\Python\\Python311\\site-packages\\keras\\src\\engine\\training.py:3000: UserWarning: You are saving your model as an HDF5 file via `model.save()`. This file format is considered legacy. We recommend using instead the native Keras format, e.g. `model.save('my_model.keras')`.\n",
      "  saving_api.save_model(\n"
     ]
    }
   ],
   "source": [
    "mdl_A.save(\"my_model_A.h5\")"
   ]
  },
  {
   "cell_type": "code",
   "execution_count": 38,
   "id": "bf8a6195-bd98-4096-a549-eec4ba5cd349",
   "metadata": {
    "tags": []
   },
   "outputs": [
    {
     "name": "stdout",
     "output_type": "stream",
     "text": [
      "Model: \"sequential_3\"\n",
      "_________________________________________________________________\n",
      " Layer (type)                Output Shape              Param #   \n",
      "=================================================================\n",
      " flatten_3 (Flatten)         (None, 784)               0         \n",
      "                                                                 \n",
      " dense_12 (Dense)            (None, 300)               235500    \n",
      "                                                                 \n",
      " dense_13 (Dense)            (None, 100)               30100     \n",
      "                                                                 \n",
      " dense_14 (Dense)            (None, 50)                5050      \n",
      "                                                                 \n",
      " dense_15 (Dense)            (None, 50)                2550      \n",
      "                                                                 \n",
      " dense_16 (Dense)            (None, 50)                2550      \n",
      "                                                                 \n",
      " dense_17 (Dense)            (None, 1)                 51        \n",
      "                                                                 \n",
      "=================================================================\n",
      "Total params: 275801 (1.05 MB)\n",
      "Trainable params: 275801 (1.05 MB)\n",
      "Non-trainable params: 0 (0.00 Byte)\n",
      "_________________________________________________________________\n"
     ]
    }
   ],
   "source": [
    "mdl_B = keras.models.Sequential()\n",
    "mdl_B.add(keras.layers.Flatten(input_shape=[28, 28]))\n",
    "for n_hidden in (300, 100, 50, 50, 50):\n",
    "    mdl_B.add(keras.layers.Dense(n_hidden, activation=\"selu\"))\n",
    "mdl_B.add(keras.layers.Dense(1, activation=\"sigmoid\"))\n",
    "mdl_B.summary()"
   ]
  },
  {
   "cell_type": "code",
   "execution_count": 39,
   "id": "d5a7367e-def4-4b8a-898c-bb382ee798d9",
   "metadata": {
    "tags": []
   },
   "outputs": [
    {
     "name": "stdout",
     "output_type": "stream",
     "text": [
      "Epoch 1/20\n",
      "7/7 [==============================] - 1s 33ms/step - loss: 0.6416 - accuracy: 0.6550 - val_loss: 0.5025 - val_accuracy: 0.8144\n",
      "Epoch 2/20\n",
      "7/7 [==============================] - 0s 10ms/step - loss: 0.4301 - accuracy: 0.8900 - val_loss: 0.4092 - val_accuracy: 0.8590\n",
      "Epoch 3/20\n",
      "7/7 [==============================] - 0s 10ms/step - loss: 0.3463 - accuracy: 0.9300 - val_loss: 0.3494 - val_accuracy: 0.8945\n",
      "Epoch 4/20\n",
      "7/7 [==============================] - 0s 10ms/step - loss: 0.2897 - accuracy: 0.9550 - val_loss: 0.3060 - val_accuracy: 0.9229\n",
      "Epoch 5/20\n",
      "7/7 [==============================] - 0s 10ms/step - loss: 0.2490 - accuracy: 0.9650 - val_loss: 0.2742 - val_accuracy: 0.9351\n",
      "Epoch 6/20\n",
      "7/7 [==============================] - 0s 10ms/step - loss: 0.2188 - accuracy: 0.9650 - val_loss: 0.2476 - val_accuracy: 0.9493\n",
      "Epoch 7/20\n",
      "7/7 [==============================] - 0s 10ms/step - loss: 0.1943 - accuracy: 0.9800 - val_loss: 0.2272 - val_accuracy: 0.9523\n",
      "Epoch 8/20\n",
      "7/7 [==============================] - 0s 10ms/step - loss: 0.1750 - accuracy: 0.9800 - val_loss: 0.2093 - val_accuracy: 0.9594\n",
      "Epoch 9/20\n",
      "7/7 [==============================] - 0s 10ms/step - loss: 0.1589 - accuracy: 0.9850 - val_loss: 0.1952 - val_accuracy: 0.9665\n",
      "Epoch 10/20\n",
      "7/7 [==============================] - 0s 10ms/step - loss: 0.1458 - accuracy: 0.9850 - val_loss: 0.1834 - val_accuracy: 0.9675\n",
      "Epoch 11/20\n",
      "7/7 [==============================] - 0s 10ms/step - loss: 0.1348 - accuracy: 0.9850 - val_loss: 0.1727 - val_accuracy: 0.9696\n",
      "Epoch 12/20\n",
      "7/7 [==============================] - 0s 10ms/step - loss: 0.1249 - accuracy: 0.9900 - val_loss: 0.1639 - val_accuracy: 0.9716\n",
      "Epoch 13/20\n",
      "7/7 [==============================] - 0s 10ms/step - loss: 0.1167 - accuracy: 0.9900 - val_loss: 0.1561 - val_accuracy: 0.9716\n",
      "Epoch 14/20\n",
      "7/7 [==============================] - 0s 10ms/step - loss: 0.1096 - accuracy: 0.9900 - val_loss: 0.1485 - val_accuracy: 0.9746\n",
      "Epoch 15/20\n",
      "7/7 [==============================] - 0s 10ms/step - loss: 0.1028 - accuracy: 0.9950 - val_loss: 0.1424 - val_accuracy: 0.9736\n",
      "Epoch 16/20\n",
      "7/7 [==============================] - 0s 10ms/step - loss: 0.0971 - accuracy: 0.9950 - val_loss: 0.1372 - val_accuracy: 0.9736\n",
      "Epoch 17/20\n",
      "7/7 [==============================] - 0s 10ms/step - loss: 0.0921 - accuracy: 0.9950 - val_loss: 0.1322 - val_accuracy: 0.9757\n",
      "Epoch 18/20\n",
      "7/7 [==============================] - 0s 10ms/step - loss: 0.0877 - accuracy: 0.9950 - val_loss: 0.1274 - val_accuracy: 0.9757\n",
      "Epoch 19/20\n",
      "7/7 [==============================] - 0s 10ms/step - loss: 0.0835 - accuracy: 0.9950 - val_loss: 0.1233 - val_accuracy: 0.9787\n",
      "Epoch 20/20\n",
      "7/7 [==============================] - 0s 10ms/step - loss: 0.0798 - accuracy: 0.9950 - val_loss: 0.1195 - val_accuracy: 0.9797\n"
     ]
    }
   ],
   "source": [
    "mdl_B.compile(loss=\"binary_crossentropy\",optimizer=keras.optimizers.SGD(learning_rate=1e-3),\n",
    " metrics=[\"accuracy\"])\n",
    "\n",
    "model_B = mdl_B.fit(xtrain_B, ytrain_B, epochs=20,validation_data=(xvalid_B, yvalid_B))\n"
   ]
  },
  {
   "cell_type": "code",
   "execution_count": 41,
   "id": "7bacd109-d8c4-4756-8f96-753ed188f88c",
   "metadata": {
    "tags": []
   },
   "outputs": [
    {
     "name": "stdout",
     "output_type": "stream",
     "text": [
      "Model: \"sequential_3\"\n",
      "_________________________________________________________________\n",
      " Layer (type)                Output Shape              Param #   \n",
      "=================================================================\n",
      " flatten_3 (Flatten)         (None, 784)               0         \n",
      "                                                                 \n",
      " dense_12 (Dense)            (None, 300)               235500    \n",
      "                                                                 \n",
      " dense_13 (Dense)            (None, 100)               30100     \n",
      "                                                                 \n",
      " dense_14 (Dense)            (None, 50)                5050      \n",
      "                                                                 \n",
      " dense_15 (Dense)            (None, 50)                2550      \n",
      "                                                                 \n",
      " dense_16 (Dense)            (None, 50)                2550      \n",
      "                                                                 \n",
      " dense_17 (Dense)            (None, 1)                 51        \n",
      "                                                                 \n",
      "=================================================================\n",
      "Total params: 275801 (1.05 MB)\n",
      "Trainable params: 275801 (1.05 MB)\n",
      "Non-trainable params: 0 (0.00 Byte)\n",
      "_________________________________________________________________\n"
     ]
    }
   ],
   "source": [
    "mdl_B.summary()"
   ]
  },
  {
   "cell_type": "code",
   "execution_count": 42,
   "id": "5a995c16-2b39-4e7b-949d-eb0838a962f7",
   "metadata": {
    "tags": []
   },
   "outputs": [
    {
     "name": "stdout",
     "output_type": "stream",
     "text": [
      "Model: \"sequential_2\"\n",
      "_________________________________________________________________\n",
      " Layer (type)                Output Shape              Param #   \n",
      "=================================================================\n",
      " flatten_2 (Flatten)         (None, 784)               0         \n",
      "                                                                 \n",
      " dense_6 (Dense)             (None, 300)               235500    \n",
      "                                                                 \n",
      " dense_7 (Dense)             (None, 100)               30100     \n",
      "                                                                 \n",
      " dense_8 (Dense)             (None, 50)                5050      \n",
      "                                                                 \n",
      " dense_9 (Dense)             (None, 50)                2550      \n",
      "                                                                 \n",
      " dense_10 (Dense)            (None, 50)                2550      \n",
      "                                                                 \n",
      " dense_11 (Dense)            (None, 8)                 408       \n",
      "                                                                 \n",
      "=================================================================\n",
      "Total params: 276158 (1.05 MB)\n",
      "Trainable params: 276158 (1.05 MB)\n",
      "Non-trainable params: 0 (0.00 Byte)\n",
      "_________________________________________________________________\n"
     ]
    }
   ],
   "source": [
    "mdl_A = keras.models.load_model(\"my_model_A.h5\")\n",
    "mdl_A.summary()"
   ]
  },
  {
   "cell_type": "code",
   "execution_count": 43,
   "id": "7b9a445c-aa5c-4a83-af48-226a408f175b",
   "metadata": {
    "tags": []
   },
   "outputs": [
    {
     "data": {
      "text/plain": [
       "{'name': 'sequential_2',\n",
       " 'layers': [{'module': 'keras.layers',\n",
       "   'class_name': 'InputLayer',\n",
       "   'config': {'batch_input_shape': (None, 28, 28),\n",
       "    'dtype': 'float32',\n",
       "    'sparse': False,\n",
       "    'ragged': False,\n",
       "    'name': 'flatten_2_input'},\n",
       "   'registered_name': None},\n",
       "  {'module': 'keras.layers',\n",
       "   'class_name': 'Flatten',\n",
       "   'config': {'name': 'flatten_2',\n",
       "    'trainable': True,\n",
       "    'dtype': 'float32',\n",
       "    'batch_input_shape': (None, 28, 28),\n",
       "    'data_format': 'channels_last'},\n",
       "   'registered_name': None,\n",
       "   'build_config': {'input_shape': (None, 28, 28)}},\n",
       "  {'module': 'keras.layers',\n",
       "   'class_name': 'Dense',\n",
       "   'config': {'name': 'dense_6',\n",
       "    'trainable': True,\n",
       "    'dtype': 'float32',\n",
       "    'units': 300,\n",
       "    'activation': 'selu',\n",
       "    'use_bias': True,\n",
       "    'kernel_initializer': {'module': 'keras.initializers',\n",
       "     'class_name': 'GlorotUniform',\n",
       "     'config': {'seed': None},\n",
       "     'registered_name': None},\n",
       "    'bias_initializer': {'module': 'keras.initializers',\n",
       "     'class_name': 'Zeros',\n",
       "     'config': {},\n",
       "     'registered_name': None},\n",
       "    'kernel_regularizer': None,\n",
       "    'bias_regularizer': None,\n",
       "    'activity_regularizer': None,\n",
       "    'kernel_constraint': None,\n",
       "    'bias_constraint': None},\n",
       "   'registered_name': None,\n",
       "   'build_config': {'input_shape': (None, 784)}},\n",
       "  {'module': 'keras.layers',\n",
       "   'class_name': 'Dense',\n",
       "   'config': {'name': 'dense_7',\n",
       "    'trainable': True,\n",
       "    'dtype': 'float32',\n",
       "    'units': 100,\n",
       "    'activation': 'selu',\n",
       "    'use_bias': True,\n",
       "    'kernel_initializer': {'module': 'keras.initializers',\n",
       "     'class_name': 'GlorotUniform',\n",
       "     'config': {'seed': None},\n",
       "     'registered_name': None},\n",
       "    'bias_initializer': {'module': 'keras.initializers',\n",
       "     'class_name': 'Zeros',\n",
       "     'config': {},\n",
       "     'registered_name': None},\n",
       "    'kernel_regularizer': None,\n",
       "    'bias_regularizer': None,\n",
       "    'activity_regularizer': None,\n",
       "    'kernel_constraint': None,\n",
       "    'bias_constraint': None},\n",
       "   'registered_name': None,\n",
       "   'build_config': {'input_shape': (None, 300)}},\n",
       "  {'module': 'keras.layers',\n",
       "   'class_name': 'Dense',\n",
       "   'config': {'name': 'dense_8',\n",
       "    'trainable': True,\n",
       "    'dtype': 'float32',\n",
       "    'units': 50,\n",
       "    'activation': 'selu',\n",
       "    'use_bias': True,\n",
       "    'kernel_initializer': {'module': 'keras.initializers',\n",
       "     'class_name': 'GlorotUniform',\n",
       "     'config': {'seed': None},\n",
       "     'registered_name': None},\n",
       "    'bias_initializer': {'module': 'keras.initializers',\n",
       "     'class_name': 'Zeros',\n",
       "     'config': {},\n",
       "     'registered_name': None},\n",
       "    'kernel_regularizer': None,\n",
       "    'bias_regularizer': None,\n",
       "    'activity_regularizer': None,\n",
       "    'kernel_constraint': None,\n",
       "    'bias_constraint': None},\n",
       "   'registered_name': None,\n",
       "   'build_config': {'input_shape': (None, 100)}},\n",
       "  {'module': 'keras.layers',\n",
       "   'class_name': 'Dense',\n",
       "   'config': {'name': 'dense_9',\n",
       "    'trainable': True,\n",
       "    'dtype': 'float32',\n",
       "    'units': 50,\n",
       "    'activation': 'selu',\n",
       "    'use_bias': True,\n",
       "    'kernel_initializer': {'module': 'keras.initializers',\n",
       "     'class_name': 'GlorotUniform',\n",
       "     'config': {'seed': None},\n",
       "     'registered_name': None},\n",
       "    'bias_initializer': {'module': 'keras.initializers',\n",
       "     'class_name': 'Zeros',\n",
       "     'config': {},\n",
       "     'registered_name': None},\n",
       "    'kernel_regularizer': None,\n",
       "    'bias_regularizer': None,\n",
       "    'activity_regularizer': None,\n",
       "    'kernel_constraint': None,\n",
       "    'bias_constraint': None},\n",
       "   'registered_name': None,\n",
       "   'build_config': {'input_shape': (None, 50)}},\n",
       "  {'module': 'keras.layers',\n",
       "   'class_name': 'Dense',\n",
       "   'config': {'name': 'dense_10',\n",
       "    'trainable': True,\n",
       "    'dtype': 'float32',\n",
       "    'units': 50,\n",
       "    'activation': 'selu',\n",
       "    'use_bias': True,\n",
       "    'kernel_initializer': {'module': 'keras.initializers',\n",
       "     'class_name': 'GlorotUniform',\n",
       "     'config': {'seed': None},\n",
       "     'registered_name': None},\n",
       "    'bias_initializer': {'module': 'keras.initializers',\n",
       "     'class_name': 'Zeros',\n",
       "     'config': {},\n",
       "     'registered_name': None},\n",
       "    'kernel_regularizer': None,\n",
       "    'bias_regularizer': None,\n",
       "    'activity_regularizer': None,\n",
       "    'kernel_constraint': None,\n",
       "    'bias_constraint': None},\n",
       "   'registered_name': None,\n",
       "   'build_config': {'input_shape': (None, 50)}},\n",
       "  {'module': 'keras.layers',\n",
       "   'class_name': 'Dense',\n",
       "   'config': {'name': 'dense_11',\n",
       "    'trainable': True,\n",
       "    'dtype': 'float32',\n",
       "    'units': 8,\n",
       "    'activation': 'softmax',\n",
       "    'use_bias': True,\n",
       "    'kernel_initializer': {'module': 'keras.initializers',\n",
       "     'class_name': 'GlorotUniform',\n",
       "     'config': {'seed': None},\n",
       "     'registered_name': None},\n",
       "    'bias_initializer': {'module': 'keras.initializers',\n",
       "     'class_name': 'Zeros',\n",
       "     'config': {},\n",
       "     'registered_name': None},\n",
       "    'kernel_regularizer': None,\n",
       "    'bias_regularizer': None,\n",
       "    'activity_regularizer': None,\n",
       "    'kernel_constraint': None,\n",
       "    'bias_constraint': None},\n",
       "   'registered_name': None,\n",
       "   'build_config': {'input_shape': (None, 50)}}]}"
      ]
     },
     "execution_count": 43,
     "metadata": {},
     "output_type": "execute_result"
    }
   ],
   "source": [
    "mdl_A.get_config()"
   ]
  },
  {
   "cell_type": "code",
   "execution_count": 44,
   "id": "94b115d6-7524-4f57-95c5-b4c212547439",
   "metadata": {
    "tags": []
   },
   "outputs": [],
   "source": [
    "model_BonA = keras.models.Sequential(mdl_A.layers[:-1])\n",
    "model_BonA.add(keras.layers.Dense(1, activation=\"sigmoid\"))\n",
    "\n",
    "model_Aclone = keras.models.clone_model(mdl_A)\n",
    "model_Aclone.set_weights(mdl_A.get_weights())"
   ]
  },
  {
   "cell_type": "code",
   "execution_count": 45,
   "id": "bf15efcc-113d-4f9f-a725-498a4234db36",
   "metadata": {
    "tags": []
   },
   "outputs": [
    {
     "name": "stdout",
     "output_type": "stream",
     "text": [
      "Epoch 1/16\n",
      "7/7 [==============================] - 1s 31ms/step - loss: 0.6043 - accuracy: 0.7250 - val_loss: 0.5290 - val_accuracy: 0.7535\n",
      "Epoch 2/16\n",
      "7/7 [==============================] - 0s 10ms/step - loss: 0.4673 - accuracy: 0.8150 - val_loss: 0.4256 - val_accuracy: 0.8266\n",
      "Epoch 3/16\n",
      "7/7 [==============================] - 0s 10ms/step - loss: 0.3730 - accuracy: 0.9050 - val_loss: 0.3563 - val_accuracy: 0.8763\n",
      "Epoch 4/16\n",
      "7/7 [==============================] - 0s 10ms/step - loss: 0.3095 - accuracy: 0.9250 - val_loss: 0.3028 - val_accuracy: 0.9199\n",
      "Epoch 5/16\n",
      "7/7 [==============================] - 0s 10ms/step - loss: 0.2622 - accuracy: 0.9550 - val_loss: 0.2649 - val_accuracy: 0.9412\n",
      "Epoch 6/16\n",
      "7/7 [==============================] - 0s 10ms/step - loss: 0.2266 - accuracy: 0.9650 - val_loss: 0.2330 - val_accuracy: 0.9564\n",
      "Epoch 7/16\n",
      "7/7 [==============================] - 0s 10ms/step - loss: 0.1982 - accuracy: 0.9700 - val_loss: 0.2095 - val_accuracy: 0.9665\n",
      "Epoch 8/16\n",
      "7/7 [==============================] - 0s 10ms/step - loss: 0.1762 - accuracy: 0.9700 - val_loss: 0.1896 - val_accuracy: 0.9716\n",
      "Epoch 9/16\n",
      "7/7 [==============================] - 0s 10ms/step - loss: 0.1583 - accuracy: 0.9700 - val_loss: 0.1740 - val_accuracy: 0.9726\n",
      "Epoch 10/16\n",
      "7/7 [==============================] - 0s 10ms/step - loss: 0.1440 - accuracy: 0.9850 - val_loss: 0.1603 - val_accuracy: 0.9757\n",
      "Epoch 11/16\n",
      "7/7 [==============================] - 0s 10ms/step - loss: 0.1314 - accuracy: 0.9900 - val_loss: 0.1491 - val_accuracy: 0.9777\n",
      "Epoch 12/16\n",
      "7/7 [==============================] - 0s 10ms/step - loss: 0.1211 - accuracy: 0.9900 - val_loss: 0.1399 - val_accuracy: 0.9777\n",
      "Epoch 13/16\n",
      "7/7 [==============================] - 0s 10ms/step - loss: 0.1125 - accuracy: 0.9900 - val_loss: 0.1322 - val_accuracy: 0.9807\n",
      "Epoch 14/16\n",
      "7/7 [==============================] - 0s 10ms/step - loss: 0.1050 - accuracy: 0.9950 - val_loss: 0.1244 - val_accuracy: 0.9797\n",
      "Epoch 15/16\n",
      "7/7 [==============================] - 0s 10ms/step - loss: 0.0982 - accuracy: 0.9900 - val_loss: 0.1183 - val_accuracy: 0.9807\n",
      "Epoch 16/16\n",
      "7/7 [==============================] - 0s 11ms/step - loss: 0.0925 - accuracy: 0.9900 - val_loss: 0.1129 - val_accuracy: 0.9817\n"
     ]
    }
   ],
   "source": [
    "for layer in model_BonA.layers[:-1]:\n",
    "    layer.trainable = True\n",
    "model_BonA.compile(loss=\"binary_crossentropy\", optimizer=keras.optimizers.SGD(learning_rate=1e-3),\n",
    " metrics=[\"accuracy\"])\n",
    "model_BA = model_BonA.fit(xtrain_B, ytrain_B, epochs=16,\n",
    " validation_data=(xvalid_B, yvalid_B))"
   ]
  },
  {
   "cell_type": "code",
   "execution_count": 46,
   "id": "fd1fdba0-2153-442a-9e76-b1e37e5bb616",
   "metadata": {
    "tags": []
   },
   "outputs": [
    {
     "name": "stdout",
     "output_type": "stream",
     "text": [
      "63/63 [==============================] - 0s 1ms/step - loss: 0.1171 - accuracy: 0.9795\n"
     ]
    },
    {
     "data": {
      "text/plain": [
       "[0.11712478846311569, 0.9794999957084656]"
      ]
     },
     "execution_count": 46,
     "metadata": {},
     "output_type": "execute_result"
    }
   ],
   "source": [
    "mdl_B.evaluate(xtest_B, ytest_B)"
   ]
  },
  {
   "cell_type": "code",
   "execution_count": 47,
   "id": "95a7f990-9e66-4f2e-b9a5-56a6a66228c0",
   "metadata": {
    "tags": []
   },
   "outputs": [
    {
     "name": "stdout",
     "output_type": "stream",
     "text": [
      "63/63 [==============================] - 0s 1ms/step - loss: 0.1150 - accuracy: 0.9795\n"
     ]
    },
    {
     "data": {
      "text/plain": [
       "[0.11498380452394485, 0.9794999957084656]"
      ]
     },
     "execution_count": 47,
     "metadata": {},
     "output_type": "execute_result"
    }
   ],
   "source": [
    "model_BonA.evaluate(xtest_B, ytest_B)"
   ]
  },
  {
   "cell_type": "code",
   "execution_count": null,
   "id": "a0d9901c-de5d-42b6-a3b6-48dddab26f6e",
   "metadata": {},
   "outputs": [],
   "source": []
  }
 ],
 "metadata": {
  "kernelspec": {
   "display_name": "Python 3 (ipykernel)",
   "language": "python",
   "name": "python3"
  },
  "language_info": {
   "codemirror_mode": {
    "name": "ipython",
    "version": 3
   },
   "file_extension": ".py",
   "mimetype": "text/x-python",
   "name": "python",
   "nbconvert_exporter": "python",
   "pygments_lexer": "ipython3",
   "version": "3.11.4"
  }
 },
 "nbformat": 4,
 "nbformat_minor": 5
}
