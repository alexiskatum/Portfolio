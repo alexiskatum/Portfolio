{
 "cells": [
  {
   "cell_type": "code",
   "execution_count": 3,
   "id": "a5a373e3",
   "metadata": {},
   "outputs": [],
   "source": [
    "import pandas as pd\n",
    "import numpy as np\n",
    "from numpy import linalg as LA\n",
    "import seaborn as sns\n",
    "import matplotlib.pyplot as plt\n",
    "from mlxtend.frequent_patterns import apriori\n",
    "from mlxtend.frequent_patterns import association_rules"
   ]
  },
  {
   "cell_type": "code",
   "execution_count": 7,
   "id": "7ab32453",
   "metadata": {},
   "outputs": [
    {
     "name": "stdout",
     "output_type": "stream",
     "text": [
      "         ID            Product\n",
      "0         1            Peaches\n",
      "1         2      Vegetable_Oil\n",
      "2         2        Frozen_Corn\n",
      "3         3              Plums\n",
      "4         4        Pancake_Mix\n",
      "...     ...                ...\n",
      "12930  1361     Hamburger_Buns\n",
      "12931  1361  Chicken_TV_Dinner\n",
      "12932  1361       Sweet_Relish\n",
      "12933  1361            Aspirin\n",
      "12934  1361     Sweet_Potatoes\n",
      "\n",
      "[12935 rows x 2 columns]\n",
      "<class 'pandas.core.frame.DataFrame'>\n",
      "RangeIndex: 12935 entries, 0 to 12934\n",
      "Data columns (total 2 columns):\n",
      " #   Column   Non-Null Count  Dtype \n",
      "---  ------   --------------  ----- \n",
      " 0   ID       12935 non-null  int64 \n",
      " 1   Product  12935 non-null  object\n",
      "dtypes: int64(1), object(1)\n",
      "memory usage: 202.2+ KB\n",
      "None\n"
     ]
    }
   ],
   "source": [
    "df = pd.read_csv('panier.txt', sep = '\t')\n",
    "print(df)\n",
    "print(df.info())"
   ]
  },
  {
   "cell_type": "markdown",
   "id": "b774f05d",
   "metadata": {},
   "source": [
    "#### La base de donnees a 12935 individus et 2 variables, ID etant quantitative discrete et Product etant qualitative nominal"
   ]
  },
  {
   "cell_type": "markdown",
   "id": "debc02dd",
   "metadata": {},
   "source": [
    "# Ensemble de 2 cardinals ou moins"
   ]
  },
  {
   "cell_type": "code",
   "execution_count": 8,
   "id": "448eb865",
   "metadata": {},
   "outputs": [
    {
     "name": "stdout",
     "output_type": "stream",
     "text": [
      "     support                     itemsets\n",
      "0   0.109559                  (2pct_Milk)\n",
      "1   0.093382   (98pct_Fat_Free_Hamburger)\n",
      "2   0.053676                     (Apples)\n",
      "3   0.066912                    (Aspirin)\n",
      "4   0.059559                    (Bananas)\n",
      "5   0.064706                    (Bologna)\n",
      "6   0.052941           (C_Cell_Batteries)\n",
      "7   0.054412                (Canned_Tuna)\n",
      "8   0.077941                       (Cola)\n",
      "9   0.071324               (Cream_Cheese)\n",
      "10  0.067647              (Domestic_Beer)\n",
      "11  0.122794                       (Eggs)\n",
      "12  0.058824               (French_Fries)\n",
      "13  0.055882              (Frozen_Shrimp)\n",
      "14  0.057353                     (Garlic)\n",
      "15  0.058824           (Hair_Conditioner)\n",
      "16  0.071324             (Hamburger_Buns)\n",
      "17  0.058824               (Hot_Dog_Buns)\n",
      "18  0.092647                   (Hot_Dogs)\n",
      "19  0.054412                  (Mushrooms)\n",
      "20  0.080147                     (Onions)\n",
      "21  0.056618               (Orange_Juice)\n",
      "22  0.055882                    (Oranges)\n",
      "23  0.057353                (Pancake_Mix)\n",
      "24  0.069118   (Pepperoni_Pizza_-_Frozen)\n",
      "25  0.055882                      (Plums)\n",
      "26  0.063971               (Popcorn_Salt)\n",
      "27  0.097794               (Potato_Chips)\n",
      "28  0.086765                   (Potatoes)\n",
      "29  0.061029                    (Raisins)\n",
      "30  0.062500              (Ramen_Noodles)\n",
      "31  0.050000                  (Salsa_Dip)\n",
      "32  0.051471                       (Salt)\n",
      "33  0.054412              (Sandwich_Bags)\n",
      "34  0.050735                 (Sour_Cream)\n",
      "35  0.055147              (Sugar_Cookies)\n",
      "36  0.085294               (Sweet_Relish)\n",
      "37  0.074265               (Toilet_Paper)\n",
      "38  0.066176                   (Tomatoes)\n",
      "39  0.079412                 (Toothpaste)\n",
      "40  0.051471                    (Waffles)\n",
      "41  0.077206                (Wheat_Bread)\n",
      "42  0.119118                (White_Bread)\n",
      "43  0.052206            (2pct_Milk, Eggs)\n",
      "44  0.051471     (2pct_Milk, White_Bread)\n",
      "45  0.055147          (Eggs, White_Bread)\n",
      "46  0.051471  (Potato_Chips, White_Bread)\n"
     ]
    },
    {
     "name": "stderr",
     "output_type": "stream",
     "text": [
      "C:\\Users\\Alexis\\AppData\\Roaming\\Python\\Python311\\site-packages\\mlxtend\\frequent_patterns\\fpcommon.py:109: DeprecationWarning: DataFrames with non-bool types result in worse computationalperformance and their support might be discontinued in the future.Please use a DataFrame with bool type\n",
      "  warnings.warn(\n"
     ]
    }
   ],
   "source": [
    "Df = pd.crosstab(df.ID ,df.Product)\n",
    "ItemSet = apriori(Df, min_support = 0.05, max_len = 2, use_colnames=True)\n",
    "print(ItemSet)"
   ]
  },
  {
   "cell_type": "markdown",
   "id": "b2a16b3a",
   "metadata": {},
   "source": [
    "#### il y a un total de 47 ensemble avec un seuil de support superieur ou egal a 0.05 dont 4 avec 2 cardinal et 43 avec un cardinal\n"
   ]
  },
  {
   "cell_type": "markdown",
   "id": "510afbb2",
   "metadata": {},
   "source": [
    "## Regle d'association \n",
    "### Confiance"
   ]
  },
  {
   "cell_type": "code",
   "execution_count": 9,
   "id": "11b9d700",
   "metadata": {},
   "outputs": [
    {
     "name": "stdout",
     "output_type": "stream",
     "text": [
      "      antecedents     consequents  antecedent support  consequent support  \\\n",
      "0     (2pct_Milk)          (Eggs)            0.109559            0.122794   \n",
      "1          (Eggs)     (2pct_Milk)            0.122794            0.109559   \n",
      "2     (2pct_Milk)   (White_Bread)            0.109559            0.119118   \n",
      "3   (White_Bread)     (2pct_Milk)            0.119118            0.109559   \n",
      "4          (Eggs)   (White_Bread)            0.122794            0.119118   \n",
      "5   (White_Bread)          (Eggs)            0.119118            0.122794   \n",
      "6  (Potato_Chips)   (White_Bread)            0.097794            0.119118   \n",
      "7   (White_Bread)  (Potato_Chips)            0.119118            0.097794   \n",
      "\n",
      "    support  confidence      lift  leverage  conviction  zhangs_metric  \n",
      "0  0.052206    0.476510  3.880561  0.038753    1.675688       0.833638  \n",
      "1  0.052206    0.425150  3.880561  0.038753    1.548997       0.846216  \n",
      "2  0.051471    0.469799  3.943989  0.038420    1.661411       0.838292  \n",
      "3  0.051471    0.432099  3.943989  0.038420    1.567951       0.847389  \n",
      "4  0.055147    0.449102  3.770237  0.040520    1.598993       0.837619  \n",
      "5  0.055147    0.462963  3.770237  0.040520    1.633418       0.834124  \n",
      "6  0.051471    0.526316  4.418454  0.039822    1.859641       0.857539  \n",
      "7  0.051471    0.432099  4.418454  0.039822    1.588667       0.878297  \n"
     ]
    }
   ],
   "source": [
    "Ar = association_rules(ItemSet, metric = 'confidence', min_threshold = 0.06)\n",
    "print(Ar)"
   ]
  },
  {
   "cell_type": "markdown",
   "id": "e167070e",
   "metadata": {},
   "source": [
    "#### 8 regle d'association genere par notre ensemble on un seuil de confiance superieur ou egal a 6%\n",
    "### Conviction "
   ]
  },
  {
   "cell_type": "code",
   "execution_count": 10,
   "id": "76dd6806",
   "metadata": {},
   "outputs": [
    {
     "name": "stdout",
     "output_type": "stream",
     "text": [
      "      antecedents    consequents  antecedent support  consequent support  \\\n",
      "6  (Potato_Chips)  (White_Bread)            0.097794            0.119118   \n",
      "0     (2pct_Milk)         (Eggs)            0.109559            0.122794   \n",
      "2     (2pct_Milk)  (White_Bread)            0.109559            0.119118   \n",
      "5   (White_Bread)         (Eggs)            0.119118            0.122794   \n",
      "4          (Eggs)  (White_Bread)            0.122794            0.119118   \n",
      "\n",
      "    support  confidence      lift  leverage  conviction  zhangs_metric  \n",
      "6  0.051471    0.526316  4.418454  0.039822    1.859641       0.857539  \n",
      "0  0.052206    0.476510  3.880561  0.038753    1.675688       0.833638  \n",
      "2  0.051471    0.469799  3.943989  0.038420    1.661411       0.838292  \n",
      "5  0.055147    0.462963  3.770237  0.040520    1.633418       0.834124  \n",
      "4  0.055147    0.449102  3.770237  0.040520    1.598993       0.837619  \n"
     ]
    }
   ],
   "source": [
    "print(Ar.sort_values( by='conviction',ascending=False)[:5])"
   ]
  },
  {
   "cell_type": "markdown",
   "id": "0aaf2c8c",
   "metadata": {},
   "source": [
    "#### Voici les 5 regles les plus importantes en se basant sur la conviction"
   ]
  },
  {
   "cell_type": "markdown",
   "id": "230a3a2e",
   "metadata": {},
   "source": [
    "# Exemple \n",
    "### Context : Associer deux produits aux oeufs"
   ]
  },
  {
   "cell_type": "markdown",
   "id": "c9f715aa",
   "metadata": {},
   "source": [
    "#### 2pct_Milk et White_Bread devront etre place avant Eggs. Eggs etant consequant de ces produits les client seront inclint d'acheter des oeufs juste apres. Il est vrai White_Bread pourrait etre aussi le consequent de Eggs serte la conviction est plus forte dans l'ordre actuel (de plus White_Bread est un consequents important de 2pct_Milk)"
   ]
  },
  {
   "cell_type": "code",
   "execution_count": 13,
   "id": "8e8978ce",
   "metadata": {},
   "outputs": [
    {
     "name": "stdout",
     "output_type": "stream",
     "text": [
      "Dans le cas (0):(2pct_Milk | Eggs) la conviction est de : 1.6756881598793367 \n",
      "\n",
      "Dans le cas (5):(White_Bread | Eggs) la conviction est de : 1.6334178498985803 \n",
      "\n"
     ]
    }
   ],
   "source": [
    "un = Ar.iloc[0,8]\n",
    "cinq = Ar.iloc[5,8]\n",
    "print('Dans le cas (0):(2pct_Milk | Eggs) la conviction est de :', un, '\\n')\n",
    "print('Dans le cas (5):(White_Bread | Eggs) la conviction est de :', cinq, '\\n')"
   ]
  },
  {
   "cell_type": "code",
   "execution_count": null,
   "id": "be7ad973",
   "metadata": {},
   "outputs": [],
   "source": []
  }
 ],
 "metadata": {
  "kernelspec": {
   "display_name": "Python 3 (ipykernel)",
   "language": "python",
   "name": "python3"
  },
  "language_info": {
   "codemirror_mode": {
    "name": "ipython",
    "version": 3
   },
   "file_extension": ".py",
   "mimetype": "text/x-python",
   "name": "python",
   "nbconvert_exporter": "python",
   "pygments_lexer": "ipython3",
   "version": "3.11.4"
  }
 },
 "nbformat": 4,
 "nbformat_minor": 5
}
